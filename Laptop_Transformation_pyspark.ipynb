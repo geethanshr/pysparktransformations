{
 "cells": [
  {
   "cell_type": "markdown",
   "metadata": {
    "application/vnd.databricks.v1+cell": {
     "cellMetadata": {
      "byteLimit": 2048000,
      "rowLimit": 10000
     },
     "inputWidgets": {},
     "nuid": "96816ed7-b08a-4ca3-abb9-f99880c3535d",
     "showTitle": false,
     "title": ""
    }
   },
   "source": [
    "\n",
    "## Overview\n",
    "\n",
    "This notebook shows you how to load data from JDBC databases using Spark SQL.\n",
    "\n",
    "*For production, you should control the level of parallelism used to read data from the external database, using the parameters described in the documentation.*"
   ]
  },
  {
   "cell_type": "markdown",
   "metadata": {
    "application/vnd.databricks.v1+cell": {
     "cellMetadata": {
      "byteLimit": 2048000,
      "rowLimit": 10000
     },
     "inputWidgets": {},
     "nuid": "84d079e4-93e8-460d-9d95-54a3fa326ca1",
     "showTitle": false,
     "title": ""
    }
   },
   "source": [
    "\n",
    "### Step 1: Connection Information\n",
    "\n",
    "This is a **Python** notebook so the default cell type is Python. However, you can use different languages by using the `%LANGUAGE` magic command. Python, Scala, SQL, and R are all supported.\n",
    "\n",
    "First we'll define some variables to let us programmatically create these connections."
   ]
  },
  {
   "cell_type": "code",
   "execution_count": 0,
   "metadata": {
    "application/vnd.databricks.v1+cell": {
     "cellMetadata": {
      "byteLimit": 2048000,
      "rowLimit": 10000
     },
     "inputWidgets": {},
     "nuid": "03e2978b-159d-4e5b-bc17-65cc7f1cfca6",
     "showTitle": false,
     "title": ""
    }
   },
   "outputs": [],
   "source": [
    "# Import necessary libraries\n",
    "from pyspark.sql import SparkSession\n",
    "\n",
    "# Initialize SparkSession (Databricks automatically initializes SparkSession for you)\n",
    "spark = SparkSession.builder.appName(\"DatabricksPostgres\").getOrCreate()\n",
    "\n",
    "# JDBC connection properties\n",
    "jdbc_url = \"jdbc:postgresql://dbaddress:5432/postgres\"  # Replace <port> with the actual port number (5432 is the default port for PostgreSQL)\n",
    "jdbc_properties = {\n",
    "    \"user\": \"user\",\n",
    "    \"password\": \"pass\",\n",
    "    \"driver\": \"org.postgresql.Driver\"\n",
    "}"
   ]
  },
  {
   "cell_type": "code",
   "execution_count": 0,
   "metadata": {
    "application/vnd.databricks.v1+cell": {
     "cellMetadata": {
      "byteLimit": 2048000,
      "rowLimit": 10000
     },
     "inputWidgets": {},
     "nuid": "4587ddf0-17e2-4665-80ac-467782643110",
     "showTitle": false,
     "title": ""
    }
   },
   "outputs": [
    {
     "output_type": "stream",
     "name": "stdout",
     "output_type": "stream",
     "text": [
      "+--------------------+---+------+------+--------------------+--------------------+--------------------+-----------+-----------+--------------------+--------------------+---------------------+---------------+\n|                 GPU|RAM| Brand| Price|            GPU_Type|           Condition|           Processor| Resolution|Screen_Size| Product_Description|     _airbyte_raw_id|_airbyte_extracted_at|  _airbyte_meta|\n+--------------------+---+------+------+--------------------+--------------------+--------------------+-----------+-----------+--------------------+--------------------+---------------------+---------------+\n|Intel HD Graphics...| 16|Lenovo|189.99|Integrated/On-Boa...|Very Good - Refur...|Intel Core i5 7th...|       null|         14|Lenovo ThinkPad 1...|56e7fb42-6fc6-498...|  2024-06-12 11:41:42|{\"changes\": []}|\n|Intel UHD Graphic...| 64|  Dell|349.99|Integrated/On-Boa...|Very Good - Refur...|Intel Core i5 8th...|1920 x 1080|       15.6|Dell Latitude 15....|9c73207c-9323-44e...|  2024-06-12 11:41:42|{\"changes\": []}|\n|Intel Iris Xe Gra...|  8|    HP|369.95|Integrated/On-Boa...|                 New|Intel Core i5 11t...|1920 x 1080|       15.6|NEW HP 15 Laptop....|3e240a7f-3180-4db...|  2024-06-12 11:41:42|{\"changes\": []}|\n|Intel Iris Xe Gra...| Up|Lenovo|   459|Integrated/On-Boa...|                 New|Intel Core i5 11t...|1920 x 1080|       15.6|2024 Lenovo Ideap...|01efd136-3dbc-4d5...|  2024-06-12 11:41:42|{\"changes\": []}|\n|Intel Iris Xe Gra...| 16|Lenovo|   499|Integrated/On-Boa...|                 New|Intel Core i5 11t...|1920 x 1080|       15.6|2024 Lenovo Ideap...|a8c471ae-db5f-4f4...|  2024-06-12 11:41:42|{\"changes\": []}|\n+--------------------+---+------+------+--------------------+--------------------+--------------------+-----------+-----------+--------------------+--------------------+---------------------+---------------+\nonly showing top 5 rows\n\n"
     ]
    }
   ],
   "source": [
    "# Read data from PostgreSQL\n",
    "df = spark.read.jdbc(url=jdbc_url, table='\"Laptop\"', properties=jdbc_properties)\n",
    "\n",
    "df.show(5)"
   ]
  },
  {
   "cell_type": "code",
   "execution_count": 0,
   "metadata": {
    "application/vnd.databricks.v1+cell": {
     "cellMetadata": {
      "byteLimit": 2048000,
      "rowLimit": 10000
     },
     "inputWidgets": {},
     "nuid": "fc929bf4-281f-4911-8e7c-267b9dcfe5c5",
     "showTitle": false,
     "title": ""
    }
   },
   "outputs": [
    {
     "output_type": "stream",
     "name": "stdout",
     "output_type": "stream",
     "text": [
      "root\n |-- GPU: string (nullable = true)\n |-- RAM: string (nullable = true)\n |-- Brand: string (nullable = true)\n |-- Price: string (nullable = true)\n |-- GPU_Type: string (nullable = true)\n |-- Condition: string (nullable = true)\n |-- Processor: string (nullable = true)\n |-- Resolution: string (nullable = true)\n |-- Screen_Size: string (nullable = true)\n |-- Product_Description: string (nullable = true)\n |-- _airbyte_raw_id: string (nullable = true)\n |-- _airbyte_extracted_at: timestamp (nullable = true)\n |-- _airbyte_meta: string (nullable = true)\n\n"
     ]
    }
   ],
   "source": [
    "# Print schema and show initial data\n",
    "df.printSchema()"
   ]
  },
  {
   "cell_type": "code",
   "execution_count": 0,
   "metadata": {
    "application/vnd.databricks.v1+cell": {
     "cellMetadata": {
      "byteLimit": 2048000,
      "rowLimit": 10000
     },
     "inputWidgets": {},
     "nuid": "c465f079-6e74-4da0-a39f-a8348a1ee47e",
     "showTitle": false,
     "title": ""
    }
   },
   "outputs": [
    {
     "output_type": "stream",
     "name": "stdout",
     "output_type": "stream",
     "text": [
      "Out[88]: ['GPU',\n 'RAM',\n 'Brand',\n 'Price',\n 'GPU_Type',\n 'Condition',\n 'Processor',\n 'Resolution',\n 'Screen_Size',\n 'Product_Description']"
     ]
    }
   ],
   "source": [
    "df=df.drop('_airbyte_raw_id','_airbyte_extracted_at','_airbyte_meta')\n",
    "df.columns"
   ]
  },
  {
   "cell_type": "markdown",
   "metadata": {
    "application/vnd.databricks.v1+cell": {
     "cellMetadata": {
      "byteLimit": 2048000,
      "rowLimit": 10000
     },
     "inputWidgets": {},
     "nuid": "3d6e1a57-e359-4f80-90d9-8564b2fbacb4",
     "showTitle": false,
     "title": ""
    }
   },
   "source": [
    "Seek and rectify the irregularities in data that might cause problems in future"
   ]
  },
  {
   "cell_type": "code",
   "execution_count": 0,
   "metadata": {
    "application/vnd.databricks.v1+cell": {
     "cellMetadata": {
      "byteLimit": 2048000,
      "rowLimit": 10000
     },
     "inputWidgets": {},
     "nuid": "5b4b86db-cbd5-48bc-94ee-4d4fe9dc07c4",
     "showTitle": false,
     "title": ""
    }
   },
   "outputs": [
    {
     "output_type": "stream",
     "name": "stdout",
     "output_type": "stream",
     "text": [
      "+----+\n| RAM|\n+----+\n|  64|\n| 512|\n| 8gb|\n|   8|\n|  16|\n|upto|\n|64gb|\n|16gb|\n|  Up|\n|16GB|\n|  40|\n| 8GB|\n|  up|\n|8GB,|\n|  24|\n|  32|\n|  20|\n|   4|\n|32GB|\n|  12|\n+----+\nonly showing top 20 rows\n\n"
     ]
    }
   ],
   "source": [
    "#EDA question why is RAM and price string instead of numerical?\n",
    "df.select('RAM').distinct().show()"
   ]
  },
  {
   "cell_type": "code",
   "execution_count": 0,
   "metadata": {
    "application/vnd.databricks.v1+cell": {
     "cellMetadata": {
      "byteLimit": 2048000,
      "rowLimit": 10000
     },
     "inputWidgets": {},
     "nuid": "4bb2e0ad-97f3-41c5-830e-8186458a5581",
     "showTitle": false,
     "title": ""
    }
   },
   "outputs": [
    {
     "output_type": "stream",
     "name": "stdout",
     "output_type": "stream",
     "text": [
      "+--------------------+----+------+-----+--------------------+---------+--------------------+-----------+-----------+--------------------+\n|                 GPU| RAM| Brand|Price|            GPU_Type|Condition|           Processor| Resolution|Screen_Size| Product_Description|\n+--------------------+----+------+-----+--------------------+---------+--------------------+-----------+-----------+--------------------+\n|Intel Iris Xe Gra...|  Up|Lenovo|  459|Integrated/On-Boa...|      New|Intel Core i5 11t...|1920 x 1080|       15.6|2024 Lenovo Ideap...|\n|Intel Iris Xe Gra...|  up|    HP|  599|Integrated/On-Boa...|      New|Intel Core i7 13t...|1920 x 1080|       15.6|*NEW* HP 15.6\" Fu...|\n|  Intel UHD Graphics|  up|  Asus|  419|Integrated/On-Boa...|      New|Intel Core i3 10t...|1920 x 1080|       15.6|Asus VivoBook 15 ...|\n|                null|  up|  Dell|  679|Integrated/On-Boa...|      New|Intel Core i3 8th...| 1366 x 768|       15.6|2020 Dell 15.6\" T...|\n|Intel Iris Xe Gra...|upto|    HP|  649|Integrated/On-Boa...|      New|Intel Core i5 13t...|1920 x 1080|       17.3|NEW HP 17.3\" 13th...|\n+--------------------+----+------+-----+--------------------+---------+--------------------+-----------+-----------+--------------------+\n\nOut[90]: 5"
     ]
    }
   ],
   "source": [
    "df.filter(\"LOWER(RAM) LIKE '%up%'\").show()\n",
    "df.filter(\"LOWER(RAM) LIKE '%up%'\").count()"
   ]
  },
  {
   "cell_type": "code",
   "execution_count": 0,
   "metadata": {
    "application/vnd.databricks.v1+cell": {
     "cellMetadata": {
      "byteLimit": 2048000,
      "rowLimit": 10000
     },
     "inputWidgets": {},
     "nuid": "f96727f9-4ba9-4c6b-bcdf-36f3471a798d",
     "showTitle": false,
     "title": ""
    }
   },
   "outputs": [],
   "source": [
    "#dropping the rows ie updating df without them\n",
    "df = df.filter(\"LOWER(RAM) NOT LIKE '%up%'\")"
   ]
  },
  {
   "cell_type": "code",
   "execution_count": 0,
   "metadata": {
    "application/vnd.databricks.v1+cell": {
     "cellMetadata": {
      "byteLimit": 2048000,
      "rowLimit": 10000
     },
     "inputWidgets": {},
     "nuid": "eb9e3490-c38a-484c-8867-bb76822070fd",
     "showTitle": false,
     "title": ""
    }
   },
   "outputs": [
    {
     "output_type": "stream",
     "name": "stdout",
     "output_type": "stream",
     "text": [
      "Out[92]: 2947"
     ]
    }
   ],
   "source": [
    "df.count() #confirmed deletion of 5 entries"
   ]
  },
  {
   "cell_type": "markdown",
   "metadata": {
    "application/vnd.databricks.v1+cell": {
     "cellMetadata": {
      "byteLimit": 2048000,
      "rowLimit": 10000
     },
     "inputWidgets": {},
     "nuid": "8aa66eeb-d547-4cc1-b0ad-175955e62e5b",
     "showTitle": false,
     "title": ""
    }
   },
   "source": [
    "Cleaning by converting string to int"
   ]
  },
  {
   "cell_type": "code",
   "execution_count": 0,
   "metadata": {
    "application/vnd.databricks.v1+cell": {
     "cellMetadata": {
      "byteLimit": 2048000,
      "rowLimit": 10000
     },
     "inputWidgets": {},
     "nuid": "7ae4cc69-84cc-49f1-b6e2-0c066cae8e4d",
     "showTitle": false,
     "title": ""
    }
   },
   "outputs": [],
   "source": [
    "\n",
    "from pyspark.sql.functions import regexp_extract, col\n",
    "\n",
    "# Remove everything except numbers from RAM and convert to integer\n",
    "df = df.withColumn(\"RAM\", regexp_extract(col(\"RAM\"), \"\\\\d+\", 0).cast(\"int\"))\n",
    "\n",
    "# Convert Price column to float\n",
    "df = df.withColumn(\"Price\", col(\"Price\").cast(\"float\"))\n",
    "\n",
    "# Convert Price column to float\n",
    "df = df.withColumn(\"Screen_Size\", col(\"Screen_Size\").cast(\"float\"))"
   ]
  },
  {
   "cell_type": "code",
   "execution_count": 0,
   "metadata": {
    "application/vnd.databricks.v1+cell": {
     "cellMetadata": {
      "byteLimit": 2048000,
      "rowLimit": 10000
     },
     "inputWidgets": {},
     "nuid": "3f8057e8-d103-438f-9487-95bd90fa2b0a",
     "showTitle": false,
     "title": ""
    }
   },
   "outputs": [
    {
     "output_type": "stream",
     "name": "stdout",
     "output_type": "stream",
     "text": [
      "+--------------------+-----+\n|          Resolution|count|\n+--------------------+-----+\n|          1600 x 900|   16|\n|           2496x1664|    1|\n|         1536 x 1204|    1|\n|         3200 x 1800|    1|\n|         2240 x 1400|   11|\n|          1366 x 786|    2|\n|          1600 x 768|    1|\n|1920 x 1080 (Full...|    4|\n|         2560 x 1600|   67|\n|                 FHD|    1|\n|         2160 x 1350|    1|\n|         2560 x 1440|   17|\n|    FHD+ 1920 x 1200|    1|\n|                null|  387|\n|         2880 x 1800|   17|\n|            1366x768|   17|\n|15.6\" UltraSharp ...|    1|\n|         1900 x 1200|   10|\n|         2736 x 1824|   19|\n|           2560x1440|    1|\n+--------------------+-----+\nonly showing top 20 rows\n\n"
     ]
    }
   ],
   "source": [
    "df.groupBy('Resolution').count().show()"
   ]
  },
  {
   "cell_type": "code",
   "execution_count": 0,
   "metadata": {
    "application/vnd.databricks.v1+cell": {
     "cellMetadata": {
      "byteLimit": 2048000,
      "rowLimit": 10000
     },
     "inputWidgets": {},
     "nuid": "e9c17c55-9d4a-43ea-b1fb-cc2f9c26c080",
     "showTitle": false,
     "title": ""
    }
   },
   "outputs": [
    {
     "output_type": "stream",
     "name": "stdout",
     "output_type": "stream",
     "text": [
      "+--------------------+---+------+------+--------------------+--------------------+--------------------+-----------+-----------+--------------------+-----------+\n|                 GPU|RAM| Brand| Price|            GPU_Type|           Condition|           Processor| Resolution|Screen_Size| Product_Description|Touchscreen|\n+--------------------+---+------+------+--------------------+--------------------+--------------------+-----------+-----------+--------------------+-----------+\n| NVIDIA Quadro M2200| 16|Lenovo|314.96|  Dedicated Graphics|Very Good - Refur...|Intel Core i7 7th...|1920 x 1080|       15.6|Lenovo ThinkPad P...|          0|\n|Intel Iris Xe Gra...|  8|Lenovo|247.45|Integrated/On-Boa...|Very Good - Refur...|Intel Core i5 11t...|1920 x 1080|       13.3|Lenovo ThinkPad L...|          0|\n|Intel UHD Graphic...| 64|  Dell| 322.0|Integrated/On-Boa...|Very Good - Refur...|Intel Core i5 8th...|1920 x 1080|       15.6|Dell 5500 15.6\" T...|          0|\n|                null|  8|  Dell|199.99|Integrated/On-Boa...|Excellent - Refur...|Intel Core i7 8th...|       null|       13.3|Dell Latitude lap...|          0|\n|Intel UHD Graphic...| 32|    HP|319.99|Integrated/On-Boa...|Excellent - Refur...|Intel Core i7 8th...|1920 x 1080|       14.0|HP EliteBook 840 ...|          0|\n+--------------------+---+------+------+--------------------+--------------------+--------------------+-----------+-----------+--------------------+-----------+\nonly showing top 5 rows\n\n"
     ]
    }
   ],
   "source": [
    "from pyspark.sql.functions import when, col\n",
    "\n",
    "# Handle None values and create Touchscreen column\n",
    "df = df.withColumn('Touchscreen', \n",
    "                   when((col('Product_Description').isNotNull()) & (col('Product_Description').contains('Touchscreen')), 1)\n",
    "                   .otherwise(0))\n",
    "\n",
    "# Display a sample of the DataFrame\n",
    "df.sample(False, 0.1).show(5)  # Adjust the sampling fraction and number of rows as needed\n"
   ]
  },
  {
   "cell_type": "code",
   "execution_count": 0,
   "metadata": {
    "application/vnd.databricks.v1+cell": {
     "cellMetadata": {
      "byteLimit": 2048000,
      "rowLimit": 10000
     },
     "inputWidgets": {},
     "nuid": "0d1be91a-0021-439d-a9e3-2f0efe6b264f",
     "showTitle": false,
     "title": ""
    }
   },
   "outputs": [
    {
     "output_type": "stream",
     "name": "stdout",
     "output_type": "stream",
     "text": [
      "+-----------+-----+\n|Touchscreen|count|\n+-----------+-----+\n|          1|  119|\n|          0| 2828|\n+-----------+-----+\n\n"
     ]
    }
   ],
   "source": [
    "df.groupBy('Touchscreen').count().show()"
   ]
  },
  {
   "cell_type": "code",
   "execution_count": 0,
   "metadata": {
    "application/vnd.databricks.v1+cell": {
     "cellMetadata": {
      "byteLimit": 2048000,
      "rowLimit": 10000
     },
     "inputWidgets": {},
     "nuid": "2eb50a91-ffff-4656-9505-956c209c1340",
     "showTitle": false,
     "title": ""
    }
   },
   "outputs": [
    {
     "output_type": "stream",
     "name": "stdout",
     "output_type": "stream",
     "text": [
      "+--------------------+---+------+------+--------------------+--------------------+--------------------+-----------+-----------+--------------------+-----------+---+\n|                 GPU|RAM| Brand| Price|            GPU_Type|           Condition|           Processor| Resolution|Screen_Size| Product_Description|Touchscreen|Ips|\n+--------------------+---+------+------+--------------------+--------------------+--------------------+-----------+-----------+--------------------+-----------+---+\n|Intel UHD Graphic...| 64|  Dell|349.99|Integrated/On-Boa...|Very Good - Refur...|Intel Core i5 8th...|1920 x 1080|       15.6|Dell Latitude 15....|          0|  0|\n|   Intel HD Graphics|  8|    HP|119.99|  Dedicated Graphics|            Open box|Intel Core i5 5th...| 1366 x 768|       11.6|HP Elitebook Revo...|          0|  0|\n|Intel UHD Graphic...| 64|  Dell| 446.0|  Dedicated Graphics|Very Good - Refur...|Intel Core i7 8th...|1920 x 1080|       15.6|Dell 15.6\" NVIDIA...|          0|  0|\n|  Intel UHD Graphics|  8|Lenovo| 269.0|Integrated/On-Boa...|            Open box|Intel Core i3 13t...|1920 x 1080|       15.6|Lenovo IdeaPad Sl...|          0|  0|\n|Intel UHD Graphic...| 16|  Dell|239.99|Integrated/On-Boa...|Excellent - Refur...|Intel Core i7 8th...|1920 x 1080|       14.0|Dell Latitude 740...|          0|  0|\n+--------------------+---+------+------+--------------------+--------------------+--------------------+-----------+-----------+--------------------+-----------+---+\nonly showing top 5 rows\n\n"
     ]
    }
   ],
   "source": [
    "# Handle None values and create Ips column\n",
    "df = df.withColumn('Ips', \n",
    "                   when((col('Product_Description').isNotNull()) & (col('Product_Description').contains('IPS')), 1)\n",
    "                   .otherwise(0))\n",
    "\n",
    "# Display a sample of the DataFrame\n",
    "df.sample(False, 0.1).show(5)  # Adjust the sampling fraction and number of rows as needed\n"
   ]
  },
  {
   "cell_type": "code",
   "execution_count": 0,
   "metadata": {
    "application/vnd.databricks.v1+cell": {
     "cellMetadata": {
      "byteLimit": 2048000,
      "rowLimit": 10000
     },
     "inputWidgets": {},
     "nuid": "61375717-3237-477a-95ba-041c624e7d1d",
     "showTitle": false,
     "title": ""
    }
   },
   "outputs": [
    {
     "output_type": "stream",
     "name": "stdout",
     "output_type": "stream",
     "text": [
      "+---+-----+\n|Ips|count|\n+---+-----+\n|  1|   45|\n|  0| 2902|\n+---+-----+\n\n"
     ]
    }
   ],
   "source": [
    "df.groupBy('Ips').count().show()"
   ]
  },
  {
   "cell_type": "code",
   "execution_count": 0,
   "metadata": {
    "application/vnd.databricks.v1+cell": {
     "cellMetadata": {
      "byteLimit": 2048000,
      "rowLimit": 10000
     },
     "inputWidgets": {},
     "nuid": "9a443772-bfe5-4165-987f-9bbb6bd8b868",
     "showTitle": false,
     "title": ""
    }
   },
   "outputs": [
    {
     "output_type": "stream",
     "name": "stdout",
     "output_type": "stream",
     "text": [
      "+-----------+-----+\n|Screen_Size|count|\n+-----------+-----+\n|       18.0|    1|\n|       15.3|    1|\n|       17.0|   31|\n|       17.3|   89|\n|       14.5|    6|\n|       14.1|   19|\n|       14.0| 1096|\n|       12.5|   49|\n|       10.1|    3|\n|       10.0|    1|\n|       12.0|   11|\n|       15.4|    1|\n|       12.3|   32|\n|       13.3|  235|\n|       14.4|    6|\n|       16.0|  105|\n|       15.5|    1|\n|      15.55|    2|\n|       12.4|   59|\n|       11.6|    7|\n+-----------+-----+\nonly showing top 20 rows\n\n"
     ]
    }
   ],
   "source": [
    "df.groupBy('Screen_Size').count().show()"
   ]
  },
  {
   "cell_type": "code",
   "execution_count": 0,
   "metadata": {
    "application/vnd.databricks.v1+cell": {
     "cellMetadata": {
      "byteLimit": 2048000,
      "rowLimit": 10000
     },
     "inputWidgets": {},
     "nuid": "6fdbf67c-5de8-49e3-87bb-c4e24ba031a9",
     "showTitle": false,
     "title": ""
    }
   },
   "outputs": [
    {
     "output_type": "stream",
     "name": "stdout",
     "output_type": "stream",
     "text": [
      "+---+---+-----+-----+--------+---------+---------+----------+-----------+-------------------+-----------+---+\n|GPU|RAM|Brand|Price|GPU_Type|Condition|Processor|Resolution|Screen_Size|Product_Description|Touchscreen|Ips|\n+---+---+-----+-----+--------+---------+---------+----------+-----------+-------------------+-----------+---+\n+---+---+-----+-----+--------+---------+---------+----------+-----------+-------------------+-----------+---+\n\n"
     ]
    }
   ],
   "source": [
    "from pyspark.sql.functions import isnull\n",
    "df.filter(isnull(col('Screen_Size'))).show()"
   ]
  },
  {
   "cell_type": "code",
   "execution_count": 0,
   "metadata": {
    "application/vnd.databricks.v1+cell": {
     "cellMetadata": {
      "byteLimit": 2048000,
      "rowLimit": 10000
     },
     "inputWidgets": {},
     "nuid": "15df94bf-4a7f-45e4-bc9b-4cec0f6ca1b6",
     "showTitle": false,
     "title": ""
    }
   },
   "outputs": [
    {
     "output_type": "stream",
     "name": "stdout",
     "output_type": "stream",
     "text": [
      "+--------------------+-----+\n|          Resolution|count|\n+--------------------+-----+\n|          1600 x 900|   16|\n|           2496x1664|    1|\n|         1536 x 1204|    1|\n|         3200 x 1800|    1|\n|         2240 x 1400|   11|\n|          1366 x 786|    2|\n|          1600 x 768|    1|\n|1920 x 1080 (Full...|    4|\n|         2560 x 1600|   67|\n|                 FHD|    1|\n|         2160 x 1350|    1|\n|         2560 x 1440|   17|\n|    FHD+ 1920 x 1200|    1|\n|                null|  387|\n|         2880 x 1800|   17|\n|            1366x768|   17|\n|15.6\" UltraSharp ...|    1|\n|         1900 x 1200|   10|\n|         2736 x 1824|   19|\n|           2560x1440|    1|\n+--------------------+-----+\nonly showing top 20 rows\n\n"
     ]
    }
   ],
   "source": [
    "df.groupBy('Resolution').count().show()"
   ]
  },
  {
   "cell_type": "code",
   "execution_count": 0,
   "metadata": {
    "application/vnd.databricks.v1+cell": {
     "cellMetadata": {
      "byteLimit": 2048000,
      "rowLimit": 10000
     },
     "inputWidgets": {},
     "nuid": "37163ec1-ed6c-4d8e-8176-29924b8bd9c4",
     "showTitle": false,
     "title": ""
    }
   },
   "outputs": [
    {
     "output_type": "stream",
     "name": "stdout",
     "output_type": "stream",
     "text": [
      "+--------------------+---+---------+------+--------------------+--------------------+--------------------+-----------+-----------+--------------------+-----------+---+-----+-----+\n|                 GPU|RAM|    Brand| Price|            GPU_Type|           Condition|           Processor| Resolution|Screen_Size| Product_Description|Touchscreen|Ips|X_res|Y_res|\n+--------------------+---+---------+------+--------------------+--------------------+--------------------+-----------+-----------+--------------------+-----------+---+-----+-----+\n|Intel HD Graphics...| 16|   Lenovo|189.99|Integrated/On-Boa...|Very Good - Refur...|Intel Core i5 7th...|       null|       14.0|Lenovo ThinkPad 1...|          0|  0| null| null|\n|Intel UHD Graphic...| 64|     Dell|349.99|Integrated/On-Boa...|Very Good - Refur...|Intel Core i5 8th...|1920 x 1080|       15.6|Dell Latitude 15....|          0|  0|1920 | 1080|\n|Intel Iris Xe Gra...|  8|       HP|369.95|Integrated/On-Boa...|                 New|Intel Core i5 11t...|1920 x 1080|       15.6|NEW HP 15 Laptop....|          0|  0|1920 | 1080|\n|Intel Iris Xe Gra...| 16|   Lenovo| 499.0|Integrated/On-Boa...|                 New|Intel Core i5 11t...|1920 x 1080|       15.6|2024 Lenovo Ideap...|          0|  0|1920 | 1080|\n|Intel Iris Xe Gra...|  8|Microsoft| 349.0|Integrated/On-Boa...|            Open box|Intel Core i5 12t...|2256 x 1504|       13.5|Microsoft Surface...|          0|  0|2256 | 1504|\n+--------------------+---+---------+------+--------------------+--------------------+--------------------+-----------+-----------+--------------------+-----------+---+-----+-----+\nonly showing top 5 rows\n\n"
     ]
    }
   ],
   "source": [
    "from pyspark.sql.functions import split\n",
    "\n",
    "# Assuming 'spark' is your SparkSession object and 'df' is your PySpark DataFrame\n",
    "\n",
    "# Split Resolution column into X_res and Y_res\n",
    "df = df.withColumn('Resolution', df['Resolution'].cast('string'))  # Ensure Resolution column is string type\n",
    "\n",
    "# Split Resolution column into X_res and Y_res\n",
    "df = df.withColumn('split_resolution', split(df['Resolution'], 'x'))\n",
    "\n",
    "# Extract X_res and Y_res from split_resolution column\n",
    "df = df.withColumn('X_res', df['split_resolution'].getItem(0))\n",
    "df = df.withColumn('Y_res', df['split_resolution'].getItem(1))\n",
    "\n",
    "# Drop intermediate split_resolution column if no longer needed\n",
    "df = df.drop('split_resolution')\n",
    "\n",
    "# Show sample of transformed DataFrame\n",
    "df.show(5)"
   ]
  },
  {
   "cell_type": "code",
   "execution_count": 0,
   "metadata": {
    "application/vnd.databricks.v1+cell": {
     "cellMetadata": {
      "byteLimit": 2048000,
      "rowLimit": 10000
     },
     "inputWidgets": {},
     "nuid": "b1bb0010-96e0-4633-a952-ff2c8c2f60d7",
     "showTitle": false,
     "title": ""
    }
   },
   "outputs": [
    {
     "output_type": "stream",
     "name": "stdout",
     "output_type": "stream",
     "text": [
      "+------------------------------------+-----+\n|X_res                               |count|\n+------------------------------------+-----+\n|3200                                |1    |\n|15.6\" UltraSharp FHD IPS Touch (1920|1    |\n|1900                                |10   |\n|1536                                |44   |\n|1366                                |158  |\n|1600                                |17   |\n|2496                                |1    |\n|FHD                                 |1    |\n|1920                                |1934 |\n|1536                                |4    |\n|null                                |387  |\n|2496                                |13   |\n|3200                                |1    |\n|Touchscreen                         |1    |\n|1024                                |2    |\n|3840X2400                           |1    |\n|3072                                |7    |\n|2256                                |1    |\n|2160                                |8    |\n|3840                                |1    |\n+------------------------------------+-----+\nonly showing top 20 rows\n\n"
     ]
    }
   ],
   "source": [
    "df.groupBy('X_res').count().show(truncate=False)"
   ]
  },
  {
   "cell_type": "code",
   "execution_count": 0,
   "metadata": {
    "application/vnd.databricks.v1+cell": {
     "cellMetadata": {
      "byteLimit": 2048000,
      "rowLimit": 10000
     },
     "inputWidgets": {},
     "nuid": "dc553e4b-f037-4ec2-aed3-392be20e48f1",
     "showTitle": false,
     "title": ""
    }
   },
   "outputs": [
    {
     "output_type": "stream",
     "name": "stdout",
     "output_type": "stream",
     "text": [
      "+--------------------+---+---------+------+--------------------+--------------------+--------------------+-----------+-----------+--------------------+-----------+---+-----+-----+\n|                 GPU|RAM|    Brand| Price|            GPU_Type|           Condition|           Processor| Resolution|Screen_Size| Product_Description|Touchscreen|Ips|X_res|Y_res|\n+--------------------+---+---------+------+--------------------+--------------------+--------------------+-----------+-----------+--------------------+-----------+---+-----+-----+\n|Intel HD Graphics...| 16|   Lenovo|189.99|Integrated/On-Boa...|Very Good - Refur...|Intel Core i5 7th...|       null|       14.0|Lenovo ThinkPad 1...|          0|  0| 1920| null|\n|Intel UHD Graphic...| 64|     Dell|349.99|Integrated/On-Boa...|Very Good - Refur...|Intel Core i5 8th...|1920 x 1080|       15.6|Dell Latitude 15....|          0|  0|1920 | 1080|\n|Intel Iris Xe Gra...|  8|       HP|369.95|Integrated/On-Boa...|                 New|Intel Core i5 11t...|1920 x 1080|       15.6|NEW HP 15 Laptop....|          0|  0|1920 | 1080|\n|Intel Iris Xe Gra...| 16|   Lenovo| 499.0|Integrated/On-Boa...|                 New|Intel Core i5 11t...|1920 x 1080|       15.6|2024 Lenovo Ideap...|          0|  0|1920 | 1080|\n|Intel Iris Xe Gra...|  8|Microsoft| 349.0|Integrated/On-Boa...|            Open box|Intel Core i5 12t...|2256 x 1504|       13.5|Microsoft Surface...|          0|  0|2256 | 1504|\n|Intel Iris Xe Gra...| 16|   Lenovo|529.98|Integrated/On-Boa...|            Open box|Intel Core i7 13t...|1920 x 1080|       15.6|Lenovo V15 G4 IRU...|          0|  0|1920 | 1080|\n|Intel HD Graphics...| 64|     Dell|319.99|Integrated/On-Boa...|Very Good - Refur...|Intel Core i5 7th...|1920 x 1080|       15.6|Dell Latitude 15....|          0|  0|1920 | 1080|\n|Intel HD Graphics...|  8|Microsoft| 245.0|Integrated/On-Boa...|Very Good - Refur...|Intel Core i5 8th...|2256 x 1504|       13.5|Microsoft Surface...|          0|  0|2256 | 1504|\n|   Intel HD Graphics| 16|   Lenovo|179.99|Integrated/On-Boa...|Excellent - Refur...|Intel Core i5 6th...|       null|       14.0|Lenovo ThinkPad T...|          0|  0| 1920| null|\n| NVIDIA Quadro M2200| 16|   Lenovo|314.96|  Dedicated Graphics|Very Good - Refur...|Intel Core i7 7th...|1920 x 1080|       15.6|Lenovo ThinkPad P...|          0|  0|1920 | 1080|\n|Intel Iris Xe Gra...| 16|     Dell| 550.0|Integrated/On-Boa...|                 New|Intel Core i5 13t...|1920 x 1080|       14.0|New Dell Latitude...|          0|  0|1920 | 1080|\n|Intel Iris Xe Gra...| 16|     Dell| 459.0|Integrated/On-Boa...|            Open box|Intel Core i5 13t...|1920 x 1080|       14.0|Dell Latitude 544...|          0|  0|1920 | 1080|\n|NVIDIA GeForce RT...| 16|     Asus| 732.0|  Dedicated Graphics|Very Good - Refur...|Intel Core i7 12t...|1920 x 1200|       13.4|ASUS ROG Flow Z13...|          0|  0|1920 | 1200|\n|                null| 32|     Dell| 429.0|Integrated/On-Boa...|Very Good - Refur...|Intel Core i7 11t...|1920 x 1080|       14.0|Dell Latitude 542...|          0|  0|1920 | 1080|\n|                null| 16|     Dell|219.99|Integrated/On-Boa...|Very Good - Refur...|Intel Core i5 6th...|1920 x 1080|       14.0|Dell laptop Latit...|          0|  0|1920 | 1080|\n|Intel Iris Xe Gra...|  8|   Lenovo|247.45|Integrated/On-Boa...|Very Good - Refur...|Intel Core i5 11t...|1920 x 1080|       13.3|Lenovo ThinkPad L...|          0|  0|1920 | 1080|\n|NVIDIA GeForce RT...| 16|     Asus| 699.0|  Dedicated Graphics|            Open box|Intel Core i7 13t...|1920 x 1080|       15.6|ASUS 15.6\" Q530VJ...|          0|  0|1920 | 1080|\n|Intel UHD Graphic...| 64|     Dell| 322.0|Integrated/On-Boa...|Very Good - Refur...|Intel Core i5 8th...|1920 x 1080|       15.6|Dell 5500 15.6\" T...|          0|  0|1920 | 1080|\n|Intel UHD Graphic...| 64|     Dell|299.99|Integrated/On-Boa...|Very Good - Refur...|Intel Core i5 8th...|1920 x 1080|       15.6|Dell Latitude 550...|          0|  0|1920 | 1080|\n|Intel HD Graphics...|  8|     Dell|319.99|Integrated/On-Boa...|Very Good - Refur...|Intel Core i5 6th...| 1366 x 768|       14.0|Dell Latitude 541...|          0|  0|1366 |  768|\n+--------------------+---+---------+------+--------------------+--------------------+--------------------+-----------+-----------+--------------------+-----------+---+-----+-----+\nonly showing top 20 rows\n\n"
     ]
    }
   ],
   "source": [
    "# List of abnormal values\n",
    "abnormal_values = [\n",
    "    '15.6', \n",
    "    'FHD (1920', \n",
    "    'Not Included', \n",
    "    '1080p', \n",
    "    '1920X1080', \n",
    "    'FHD+ 1920', \n",
    "    '5K', \n",
    "    'FHD', \n",
    "    '3840X2400',\n",
    "    'FHD+ 1920 ',\n",
    "    'FHD (1920 ', \n",
    "    'Touchscreen', \n",
    "    '15.6\" UltraSharp FHD IPS Touch (1920'\n",
    "]\n",
    "\n",
    "# Replace abnormal values with '1920' and handle nulls\n",
    "df = df.withColumn('X_res', when(df['X_res'].isin(abnormal_values), '1920').otherwise(df['X_res']))\n",
    "df = df.na.fill({'X_res': '1920'})\n",
    "\n",
    "# Show the DataFrame to verify changes\n",
    "df.show()"
   ]
  },
  {
   "cell_type": "code",
   "execution_count": 0,
   "metadata": {
    "application/vnd.databricks.v1+cell": {
     "cellMetadata": {
      "byteLimit": 2048000,
      "rowLimit": 10000
     },
     "inputWidgets": {},
     "nuid": "eeac9dbc-3b67-4402-b2f3-427e76dda20f",
     "showTitle": false,
     "title": ""
    }
   },
   "outputs": [
    {
     "output_type": "stream",
     "name": "stdout",
     "output_type": "stream",
     "text": [
      "['3200', '1900 ', '1536 ', '1366 ', '1600 ', '2496', '1920 ', '1536', '2496 ', '3200 ', '1024 ', '3072 ', '2256', '2160 ', '3840', '2240', '2880 ', '2560', '2736 ', '2240 ', '3240 ', '2560 ', '3456 ', '2256 ', '1366', '2400 ', '3000 ', '1920', '3840 ']\n"
     ]
    }
   ],
   "source": [
    "unique_x_res = df.select('X_res').distinct().collect()\n",
    "\n",
    "# Convert the result to a list\n",
    "unique_x_res_list = [row['X_res'] for row in unique_x_res]\n",
    "\n",
    "# Print the unique values\n",
    "print(unique_x_res_list)"
   ]
  },
  {
   "cell_type": "code",
   "execution_count": 0,
   "metadata": {
    "application/vnd.databricks.v1+cell": {
     "cellMetadata": {
      "byteLimit": 2048000,
      "rowLimit": 10000
     },
     "inputWidgets": {},
     "nuid": "e2bc9f60-c61e-4046-a5e7-fd13cde69065",
     "showTitle": false,
     "title": ""
    }
   },
   "outputs": [],
   "source": [
    "df = df.withColumn('X_res', col('X_res').cast('int'))"
   ]
  },
  {
   "cell_type": "code",
   "execution_count": 0,
   "metadata": {
    "application/vnd.databricks.v1+cell": {
     "cellMetadata": {
      "byteLimit": 2048000,
      "rowLimit": 10000
     },
     "inputWidgets": {},
     "nuid": "3eaf7834-8c9f-4aea-b788-7bc8460da256",
     "showTitle": false,
     "title": ""
    }
   },
   "outputs": [
    {
     "output_type": "stream",
     "name": "stdout",
     "output_type": "stream",
     "text": [
      "+--------+-----+\n|Y_res   |count|\n+--------+-----+\n| 2400   |21   |\n| 1620   |3    |\n| 1080   |1662 |\n| 768    |159  |\n| 1280   |27   |\n| 1024   |43   |\n|1664    |1    |\n|null    |397  |\n| 1920   |22   |\n| 1440   |24   |\n| 1504   |59   |\n| 1080 pi|1    |\n|1080)   |1    |\n| 2160   |51   |\n| 1204   |1    |\n| 2000   |3    |\n| 1824   |19   |\n|2160    |1    |\n| 1600   |74   |\n|1400    |1    |\n+--------+-----+\nonly showing top 20 rows\n\n"
     ]
    }
   ],
   "source": [
    "df.groupBy('Y_res').count().show(truncate=False)"
   ]
  },
  {
   "cell_type": "code",
   "execution_count": 0,
   "metadata": {
    "application/vnd.databricks.v1+cell": {
     "cellMetadata": {
      "byteLimit": 2048000,
      "rowLimit": 10000
     },
     "inputWidgets": {},
     "nuid": "cd406c47-5c04-4e96-b448-49275321bda4",
     "showTitle": false,
     "title": ""
    }
   },
   "outputs": [
    {
     "output_type": "stream",
     "name": "stdout",
     "output_type": "stream",
     "text": [
      "+--------------------+---+---------+------+--------------------+--------------------+--------------------+-----------+-----------+--------------------+-----------+---+-----+-----+\n|                 GPU|RAM|    Brand| Price|            GPU_Type|           Condition|           Processor| Resolution|Screen_Size| Product_Description|Touchscreen|Ips|X_res|Y_res|\n+--------------------+---+---------+------+--------------------+--------------------+--------------------+-----------+-----------+--------------------+-----------+---+-----+-----+\n|Intel HD Graphics...| 16|   Lenovo|189.99|Integrated/On-Boa...|Very Good - Refur...|Intel Core i5 7th...|       null|       14.0|Lenovo ThinkPad 1...|          0|  0| 1920| 1080|\n|Intel UHD Graphic...| 64|     Dell|349.99|Integrated/On-Boa...|Very Good - Refur...|Intel Core i5 8th...|1920 x 1080|       15.6|Dell Latitude 15....|          0|  0|1920 | 1080|\n|Intel Iris Xe Gra...|  8|       HP|369.95|Integrated/On-Boa...|                 New|Intel Core i5 11t...|1920 x 1080|       15.6|NEW HP 15 Laptop....|          0|  0|1920 | 1080|\n|Intel Iris Xe Gra...| 16|   Lenovo| 499.0|Integrated/On-Boa...|                 New|Intel Core i5 11t...|1920 x 1080|       15.6|2024 Lenovo Ideap...|          0|  0|1920 | 1080|\n|Intel Iris Xe Gra...|  8|Microsoft| 349.0|Integrated/On-Boa...|            Open box|Intel Core i5 12t...|2256 x 1504|       13.5|Microsoft Surface...|          0|  0|2256 | 1504|\n|Intel Iris Xe Gra...| 16|   Lenovo|529.98|Integrated/On-Boa...|            Open box|Intel Core i7 13t...|1920 x 1080|       15.6|Lenovo V15 G4 IRU...|          0|  0|1920 | 1080|\n|Intel HD Graphics...| 64|     Dell|319.99|Integrated/On-Boa...|Very Good - Refur...|Intel Core i5 7th...|1920 x 1080|       15.6|Dell Latitude 15....|          0|  0|1920 | 1080|\n|Intel HD Graphics...|  8|Microsoft| 245.0|Integrated/On-Boa...|Very Good - Refur...|Intel Core i5 8th...|2256 x 1504|       13.5|Microsoft Surface...|          0|  0|2256 | 1504|\n|   Intel HD Graphics| 16|   Lenovo|179.99|Integrated/On-Boa...|Excellent - Refur...|Intel Core i5 6th...|       null|       14.0|Lenovo ThinkPad T...|          0|  0| 1920| 1080|\n| NVIDIA Quadro M2200| 16|   Lenovo|314.96|  Dedicated Graphics|Very Good - Refur...|Intel Core i7 7th...|1920 x 1080|       15.6|Lenovo ThinkPad P...|          0|  0|1920 | 1080|\n|Intel Iris Xe Gra...| 16|     Dell| 550.0|Integrated/On-Boa...|                 New|Intel Core i5 13t...|1920 x 1080|       14.0|New Dell Latitude...|          0|  0|1920 | 1080|\n|Intel Iris Xe Gra...| 16|     Dell| 459.0|Integrated/On-Boa...|            Open box|Intel Core i5 13t...|1920 x 1080|       14.0|Dell Latitude 544...|          0|  0|1920 | 1080|\n|NVIDIA GeForce RT...| 16|     Asus| 732.0|  Dedicated Graphics|Very Good - Refur...|Intel Core i7 12t...|1920 x 1200|       13.4|ASUS ROG Flow Z13...|          0|  0|1920 | 1200|\n|                null| 32|     Dell| 429.0|Integrated/On-Boa...|Very Good - Refur...|Intel Core i7 11t...|1920 x 1080|       14.0|Dell Latitude 542...|          0|  0|1920 | 1080|\n|                null| 16|     Dell|219.99|Integrated/On-Boa...|Very Good - Refur...|Intel Core i5 6th...|1920 x 1080|       14.0|Dell laptop Latit...|          0|  0|1920 | 1080|\n|Intel Iris Xe Gra...|  8|   Lenovo|247.45|Integrated/On-Boa...|Very Good - Refur...|Intel Core i5 11t...|1920 x 1080|       13.3|Lenovo ThinkPad L...|          0|  0|1920 | 1080|\n|NVIDIA GeForce RT...| 16|     Asus| 699.0|  Dedicated Graphics|            Open box|Intel Core i7 13t...|1920 x 1080|       15.6|ASUS 15.6\" Q530VJ...|          0|  0|1920 | 1080|\n|Intel UHD Graphic...| 64|     Dell| 322.0|Integrated/On-Boa...|Very Good - Refur...|Intel Core i5 8th...|1920 x 1080|       15.6|Dell 5500 15.6\" T...|          0|  0|1920 | 1080|\n|Intel UHD Graphic...| 64|     Dell|299.99|Integrated/On-Boa...|Very Good - Refur...|Intel Core i5 8th...|1920 x 1080|       15.6|Dell Latitude 550...|          0|  0|1920 | 1080|\n|Intel HD Graphics...|  8|     Dell|319.99|Integrated/On-Boa...|Very Good - Refur...|Intel Core i5 6th...| 1366 x 768|       14.0|Dell Latitude 541...|          0|  0|1366 |  768|\n+--------------------+---+---------+------+--------------------+--------------------+--------------------+-----------+-----------+--------------------+-----------+---+-----+-----+\nonly showing top 20 rows\n\n"
     ]
    }
   ],
   "source": [
    "abnormal_values = [\n",
    "    ' 1080 (Full HD)', \n",
    "    '1080 Full HD', \n",
    "    ' 1080 pixels',\n",
    "    ' 1080 Full HD',\n",
    "    ' 1080)',\n",
    "    ' 1080 pi', \n",
    "    '1080)'\n",
    "]\n",
    "\n",
    "# Replace abnormal values with '1920' and handle nulls\n",
    "df = df.withColumn('Y_res', when(df['Y_res'].isin(abnormal_values), '1080').otherwise(df['Y_res']))\n",
    "df = df.na.fill({'Y_res': '1080'})\n",
    "\n",
    "# Show the DataFrame to verify changes\n",
    "df.show()"
   ]
  },
  {
   "cell_type": "code",
   "execution_count": 0,
   "metadata": {
    "application/vnd.databricks.v1+cell": {
     "cellMetadata": {
      "byteLimit": 2048000,
      "rowLimit": 10000
     },
     "inputWidgets": {},
     "nuid": "7bbd378a-93e0-45f3-86c1-58e64dad5177",
     "showTitle": false,
     "title": ""
    }
   },
   "outputs": [
    {
     "output_type": "stream",
     "name": "stdout",
     "output_type": "stream",
     "text": [
      "[' 2400', ' 1620', ' 1080', ' 768', ' 1280', ' 1024', '1664', ' 1920', ' 1440', ' 1504', ' 2160', ' 1204', ' 2000', ' 1824', '2160', ' 1600', '1400', '1504', '1080', ' 1200', ' 1800', ' 1350', '1024', '1600', '768', '1440', ' 900', ' 1400', ' 1664', '1800', ' 786']\n"
     ]
    }
   ],
   "source": [
    "unique_y_res = df.select('Y_res').distinct().collect()\n",
    "\n",
    "# Convert the result to a list\n",
    "unique_y_res_list = [row['Y_res'] for row in unique_y_res]\n",
    "\n",
    "# Print the unique values\n",
    "print(unique_y_res_list)"
   ]
  },
  {
   "cell_type": "code",
   "execution_count": 0,
   "metadata": {
    "application/vnd.databricks.v1+cell": {
     "cellMetadata": {
      "byteLimit": 2048000,
      "rowLimit": 10000
     },
     "inputWidgets": {},
     "nuid": "ab51b414-8afe-4b70-bf2d-369e6ceb5939",
     "showTitle": false,
     "title": ""
    }
   },
   "outputs": [],
   "source": [
    "df = df.withColumn('Y_res', col('Y_res').cast('int'))"
   ]
  },
  {
   "cell_type": "code",
   "execution_count": 0,
   "metadata": {
    "application/vnd.databricks.v1+cell": {
     "cellMetadata": {
      "byteLimit": 2048000,
      "rowLimit": 10000
     },
     "inputWidgets": {},
     "nuid": "f3b5a07e-3845-46c8-be3a-f9b244ac076d",
     "showTitle": false,
     "title": ""
    }
   },
   "outputs": [
    {
     "output_type": "stream",
     "name": "stdout",
     "output_type": "stream",
     "text": [
      "Corr 'Price' and 'RAM': 0.11908970720724017\nCorr 'Price' and 'Screen_Size': 0.15560943440294497\nCorr 'Price' and 'Touchscreen': 0.08163186068716557\nCorr 'Price' and 'Ips': 0.008941628355080208\nCorr 'Price' and 'Y_res': 0.25011589472431467\n"
     ]
    }
   ],
   "source": [
    "from pyspark.sql.types import FloatType, DoubleType, IntegerType, LongType\n",
    "columns = df.columns\n",
    "\n",
    "# Calculate correlation with 'Price'\n",
    "correlations = {}\n",
    "for col in columns:\n",
    "    if col != 'Price' and df.schema[col].dataType in (FloatType(), DoubleType(), IntegerType(), LongType()):\n",
    "        correlation = df.stat.corr('Price', col)\n",
    "        correlations[col] = correlation\n",
    "\n",
    "# Print the correlation values\n",
    "for col, corr in correlations.items():\n",
    "    print(f\"Corr 'Price' and '{col}': {corr}\")"
   ]
  },
  {
   "cell_type": "code",
   "execution_count": 0,
   "metadata": {
    "application/vnd.databricks.v1+cell": {
     "cellMetadata": {
      "byteLimit": 2048000,
      "rowLimit": 10000
     },
     "inputWidgets": {},
     "nuid": "70dc0a2e-18e1-45f1-8f0b-ed69e95569b6",
     "showTitle": false,
     "title": ""
    }
   },
   "outputs": [
    {
     "output_type": "stream",
     "name": "stdout",
     "output_type": "stream",
     "text": [
      "+-----+-----+-----------+---------+\n|X_res|Y_res|Screen_Size|      ppi|\n+-----+-----+-----------+---------+\n| 1920| 1080|       14.0|157.35051|\n|1920 | 1080|       15.6|141.21199|\n|1920 | 1080|       15.6|141.21199|\n|1920 | 1080|       15.6|141.21199|\n|2256 | 1504|       13.5|200.84256|\n|1920 | 1080|       15.6|141.21199|\n|1920 | 1080|       15.6|141.21199|\n|2256 | 1504|       13.5|200.84256|\n| 1920| 1080|       14.0|157.35051|\n|1920 | 1080|       15.6|141.21199|\n|1920 | 1080|       14.0|157.35051|\n|1920 | 1080|       14.0|157.35051|\n|1920 | 1200|       13.4|168.96683|\n|1920 | 1080|       14.0|157.35051|\n|1920 | 1080|       14.0|157.35051|\n|1920 | 1080|       13.3|165.63211|\n|1920 | 1080|       15.6|141.21199|\n|1920 | 1080|       15.6|141.21199|\n|1920 | 1080|       15.6|141.21199|\n|1366 |  768|       14.0| 111.9352|\n+-----+-----+-----------+---------+\nonly showing top 20 rows\n\n"
     ]
    }
   ],
   "source": [
    "from pyspark.sql.functions import col, sqrt\n",
    "df = df.withColumn('ppi', (sqrt(col('X_res')**2 + col('Y_res')**2) / col('Screen_Size')).cast('float'))\n",
    "\n",
    "# Show a sample of the DataFrame\n",
    "df.select('X_res', 'Y_res', 'Screen_Size', 'ppi').show()"
   ]
  },
  {
   "cell_type": "code",
   "execution_count": 0,
   "metadata": {
    "application/vnd.databricks.v1+cell": {
     "cellMetadata": {
      "byteLimit": 2048000,
      "rowLimit": 10000
     },
     "inputWidgets": {},
     "nuid": "71b55f39-ef82-4e6c-a281-1057356a193c",
     "showTitle": false,
     "title": ""
    }
   },
   "outputs": [
    {
     "output_type": "stream",
     "name": "stdout",
     "output_type": "stream",
     "text": [
      "Corr 'Price' and 'RAM': 0.11908970720724017\nCorr 'Price' and 'Screen_Size': 0.15560943440294497\nCorr 'Price' and 'Touchscreen': 0.08163186068716557\nCorr 'Price' and 'Ips': 0.008941628355080208\nCorr 'Price' and 'Y_res': 0.25011589472431467\nCorr 'Price' and 'ppi': 0.15288746622775373\n"
     ]
    }
   ],
   "source": [
    "columns = df.columns\n",
    "\n",
    "# Calculate correlation with 'Price'\n",
    "correlations = {}\n",
    "for col in columns:\n",
    "    if col != 'Price' and df.schema[col].dataType in (FloatType(), DoubleType(), IntegerType(), LongType()):\n",
    "        correlation = df.stat.corr('Price', col)\n",
    "        correlations[col] = correlation\n",
    "\n",
    "# Print the correlation values\n",
    "for col, corr in correlations.items():\n",
    "    print(f\"Corr 'Price' and '{col}': {corr}\")"
   ]
  },
  {
   "cell_type": "code",
   "execution_count": 0,
   "metadata": {
    "application/vnd.databricks.v1+cell": {
     "cellMetadata": {
      "byteLimit": 2048000,
      "rowLimit": 10000
     },
     "inputWidgets": {},
     "nuid": "ce354741-22d2-40a6-89f7-5746332ce806",
     "showTitle": false,
     "title": ""
    }
   },
   "outputs": [
    {
     "output_type": "stream",
     "name": "stdout",
     "output_type": "stream",
     "text": [
      "+--------------------+---+---------+------+--------------------+--------------------+--------------------+--------------------+-----------+---+---------+\n|                 GPU|RAM|    Brand| Price|            GPU_Type|           Condition|           Processor| Product_Description|Touchscreen|Ips|      ppi|\n+--------------------+---+---------+------+--------------------+--------------------+--------------------+--------------------+-----------+---+---------+\n|Intel HD Graphics...| 16|   Lenovo|189.99|Integrated/On-Boa...|Very Good - Refur...|Intel Core i5 7th...|Lenovo ThinkPad 1...|          0|  0|157.35051|\n|Intel UHD Graphic...| 64|     Dell|349.99|Integrated/On-Boa...|Very Good - Refur...|Intel Core i5 8th...|Dell Latitude 15....|          0|  0|141.21199|\n|Intel Iris Xe Gra...|  8|       HP|369.95|Integrated/On-Boa...|                 New|Intel Core i5 11t...|NEW HP 15 Laptop....|          0|  0|141.21199|\n|Intel Iris Xe Gra...| 16|   Lenovo| 499.0|Integrated/On-Boa...|                 New|Intel Core i5 11t...|2024 Lenovo Ideap...|          0|  0|141.21199|\n|Intel Iris Xe Gra...|  8|Microsoft| 349.0|Integrated/On-Boa...|            Open box|Intel Core i5 12t...|Microsoft Surface...|          0|  0|200.84256|\n|Intel Iris Xe Gra...| 16|   Lenovo|529.98|Integrated/On-Boa...|            Open box|Intel Core i7 13t...|Lenovo V15 G4 IRU...|          0|  0|141.21199|\n|Intel HD Graphics...| 64|     Dell|319.99|Integrated/On-Boa...|Very Good - Refur...|Intel Core i5 7th...|Dell Latitude 15....|          0|  0|141.21199|\n|Intel HD Graphics...|  8|Microsoft| 245.0|Integrated/On-Boa...|Very Good - Refur...|Intel Core i5 8th...|Microsoft Surface...|          0|  0|200.84256|\n|   Intel HD Graphics| 16|   Lenovo|179.99|Integrated/On-Boa...|Excellent - Refur...|Intel Core i5 6th...|Lenovo ThinkPad T...|          0|  0|157.35051|\n| NVIDIA Quadro M2200| 16|   Lenovo|314.96|  Dedicated Graphics|Very Good - Refur...|Intel Core i7 7th...|Lenovo ThinkPad P...|          0|  0|141.21199|\n|Intel Iris Xe Gra...| 16|     Dell| 550.0|Integrated/On-Boa...|                 New|Intel Core i5 13t...|New Dell Latitude...|          0|  0|157.35051|\n|Intel Iris Xe Gra...| 16|     Dell| 459.0|Integrated/On-Boa...|            Open box|Intel Core i5 13t...|Dell Latitude 544...|          0|  0|157.35051|\n|NVIDIA GeForce RT...| 16|     Asus| 732.0|  Dedicated Graphics|Very Good - Refur...|Intel Core i7 12t...|ASUS ROG Flow Z13...|          0|  0|168.96683|\n|                null| 32|     Dell| 429.0|Integrated/On-Boa...|Very Good - Refur...|Intel Core i7 11t...|Dell Latitude 542...|          0|  0|157.35051|\n|                null| 16|     Dell|219.99|Integrated/On-Boa...|Very Good - Refur...|Intel Core i5 6th...|Dell laptop Latit...|          0|  0|157.35051|\n|Intel Iris Xe Gra...|  8|   Lenovo|247.45|Integrated/On-Boa...|Very Good - Refur...|Intel Core i5 11t...|Lenovo ThinkPad L...|          0|  0|165.63211|\n|NVIDIA GeForce RT...| 16|     Asus| 699.0|  Dedicated Graphics|            Open box|Intel Core i7 13t...|ASUS 15.6\" Q530VJ...|          0|  0|141.21199|\n|Intel UHD Graphic...| 64|     Dell| 322.0|Integrated/On-Boa...|Very Good - Refur...|Intel Core i5 8th...|Dell 5500 15.6\" T...|          0|  0|141.21199|\n|Intel UHD Graphic...| 64|     Dell|299.99|Integrated/On-Boa...|Very Good - Refur...|Intel Core i5 8th...|Dell Latitude 550...|          0|  0|141.21199|\n|Intel HD Graphics...|  8|     Dell|319.99|Integrated/On-Boa...|Very Good - Refur...|Intel Core i5 6th...|Dell Latitude 541...|          0|  0| 111.9352|\n+--------------------+---+---------+------+--------------------+--------------------+--------------------+--------------------+-----------+---+---------+\nonly showing top 20 rows\n\n"
     ]
    }
   ],
   "source": [
    "# Drop the columns from the PySpark DataFrame\n",
    "df = df.drop('Screen_Size', 'X_res', 'Y_res', 'Resolution')\n",
    "\n",
    "# Show the DataFrame to confirm the columns have been dropped\n",
    "df.show()"
   ]
  },
  {
   "cell_type": "code",
   "execution_count": 0,
   "metadata": {
    "application/vnd.databricks.v1+cell": {
     "cellMetadata": {
      "byteLimit": 2048000,
      "rowLimit": 10000
     },
     "inputWidgets": {},
     "nuid": "a7219458-469d-4274-a8c0-8894120d735b",
     "showTitle": false,
     "title": ""
    }
   },
   "outputs": [
    {
     "output_type": "stream",
     "name": "stdout",
     "output_type": "stream",
     "text": [
      "['AMD Ryzen 7 5000 Series', 'Intel Core i3 5th Gen.', 'Intel Core i7 8th Gen.', 'Intel Core i3 6th Gen.', 'Intel Core i7 13th Gen.', 'Intel Core i7 12th Gen.', 'Intel Core i3 12th Gen.', 'Intel Core i7 11th Gen.', 'Intel Core i3 4th Gen.', 'Intel Core i5 11th Gen.', 'Intel Core i7 7th Gen.', 'Intel Core i9 10th Gen.', 'AMD Ryzen 7 6000 Series', 'Intel Core i3 10th Gen.', 'AMD Ryzen 5 5000 Series', 'Intel Core i3 11th Gen.', 'AMD Ryzen 5 6000 Series', 'Intel Core i5 12th Gen.', 'Intel Core i9 12th Gen.', 'AMD Ryzen 9 6000 Series', 'Intel Core i3 13th Gen.', 'Intel Core i7 4th Gen.', 'Intel Core i9 8th Gen.', 'AMD Ryzen 7 4000 Series', 'AMD Ryzen 5 3000 Series', 'Intel Core i5 4th Gen.', 'Intel Core i7 9th Gen.', 'Intel Core i5 8th Gen.', 'Intel Core i7 5th Gen.', 'Intel Core i5 7th Gen.', 'Intel Core i7 6th Gen.', 'Intel Core i9 13th Gen.', 'AMD Ryzen 5 7000 Series', 'Intel Core i7 8th Gen. vPRO', 'Intel Core i5 5th Gen.', 'Intel Core i5 6th Gen.', 'AMD Ryzen 7 7000 Series', 'Intel Core i9 9th Gen.', 'AMD Ryzen 9 7000 Series', 'Intel Core i5 13th Gen.', 'Intel Core i5 9th Gen.', 'AMD Ryzen 3 3000 Series', 'Intel Core i3 8th Gen.', 'Intel Core i5 10th Gen.', 'AMD Ryzen 3 4000 Series', 'Intel Core i3 7th Gen.', 'Intel Core i7 10th Gen.', 'Intel Core i9 11th Gen.']\n"
     ]
    }
   ],
   "source": [
    "unique_processor = df.select('Processor').distinct().collect()\n",
    "\n",
    "# Convert the result to a list\n",
    "unique_processor = [row['Processor'] for row in unique_processor]\n",
    "\n",
    "# Print the unique values\n",
    "print(unique_processor)"
   ]
  },
  {
   "cell_type": "code",
   "execution_count": 0,
   "metadata": {
    "application/vnd.databricks.v1+cell": {
     "cellMetadata": {
      "byteLimit": 2048000,
      "rowLimit": 10000
     },
     "inputWidgets": {},
     "nuid": "f6335f88-2e90-4626-b278-9c1c8ac9bf37",
     "showTitle": false,
     "title": ""
    }
   },
   "outputs": [
    {
     "output_type": "stream",
     "name": "stdout",
     "output_type": "stream",
     "text": [
      "+--------------------+---+---------+------+--------------------+--------------------+--------------------+--------------------+-----------+---+---------+-------------+\n|                 GPU|RAM|    Brand| Price|            GPU_Type|           Condition|           Processor| Product_Description|Touchscreen|Ips|      ppi|     Cpu Name|\n+--------------------+---+---------+------+--------------------+--------------------+--------------------+--------------------+-----------+---+---------+-------------+\n|Intel HD Graphics...| 16|   Lenovo|189.99|Integrated/On-Boa...|Very Good - Refur...|Intel Core i5 7th...|Lenovo ThinkPad 1...|          0|  0|157.35051|Intel Core i5|\n|Intel UHD Graphic...| 64|     Dell|349.99|Integrated/On-Boa...|Very Good - Refur...|Intel Core i5 8th...|Dell Latitude 15....|          0|  0|141.21199|Intel Core i5|\n|Intel Iris Xe Gra...|  8|       HP|369.95|Integrated/On-Boa...|                 New|Intel Core i5 11t...|NEW HP 15 Laptop....|          0|  0|141.21199|Intel Core i5|\n|Intel Iris Xe Gra...| 16|   Lenovo| 499.0|Integrated/On-Boa...|                 New|Intel Core i5 11t...|2024 Lenovo Ideap...|          0|  0|141.21199|Intel Core i5|\n|Intel Iris Xe Gra...|  8|Microsoft| 349.0|Integrated/On-Boa...|            Open box|Intel Core i5 12t...|Microsoft Surface...|          0|  0|200.84256|Intel Core i5|\n|Intel Iris Xe Gra...| 16|   Lenovo|529.98|Integrated/On-Boa...|            Open box|Intel Core i7 13t...|Lenovo V15 G4 IRU...|          0|  0|141.21199|Intel Core i7|\n|Intel HD Graphics...| 64|     Dell|319.99|Integrated/On-Boa...|Very Good - Refur...|Intel Core i5 7th...|Dell Latitude 15....|          0|  0|141.21199|Intel Core i5|\n|Intel HD Graphics...|  8|Microsoft| 245.0|Integrated/On-Boa...|Very Good - Refur...|Intel Core i5 8th...|Microsoft Surface...|          0|  0|200.84256|Intel Core i5|\n|   Intel HD Graphics| 16|   Lenovo|179.99|Integrated/On-Boa...|Excellent - Refur...|Intel Core i5 6th...|Lenovo ThinkPad T...|          0|  0|157.35051|Intel Core i5|\n| NVIDIA Quadro M2200| 16|   Lenovo|314.96|  Dedicated Graphics|Very Good - Refur...|Intel Core i7 7th...|Lenovo ThinkPad P...|          0|  0|141.21199|Intel Core i7|\n|Intel Iris Xe Gra...| 16|     Dell| 550.0|Integrated/On-Boa...|                 New|Intel Core i5 13t...|New Dell Latitude...|          0|  0|157.35051|Intel Core i5|\n|Intel Iris Xe Gra...| 16|     Dell| 459.0|Integrated/On-Boa...|            Open box|Intel Core i5 13t...|Dell Latitude 544...|          0|  0|157.35051|Intel Core i5|\n|NVIDIA GeForce RT...| 16|     Asus| 732.0|  Dedicated Graphics|Very Good - Refur...|Intel Core i7 12t...|ASUS ROG Flow Z13...|          0|  0|168.96683|Intel Core i7|\n|                null| 32|     Dell| 429.0|Integrated/On-Boa...|Very Good - Refur...|Intel Core i7 11t...|Dell Latitude 542...|          0|  0|157.35051|Intel Core i7|\n|                null| 16|     Dell|219.99|Integrated/On-Boa...|Very Good - Refur...|Intel Core i5 6th...|Dell laptop Latit...|          0|  0|157.35051|Intel Core i5|\n|Intel Iris Xe Gra...|  8|   Lenovo|247.45|Integrated/On-Boa...|Very Good - Refur...|Intel Core i5 11t...|Lenovo ThinkPad L...|          0|  0|165.63211|Intel Core i5|\n|NVIDIA GeForce RT...| 16|     Asus| 699.0|  Dedicated Graphics|            Open box|Intel Core i7 13t...|ASUS 15.6\" Q530VJ...|          0|  0|141.21199|Intel Core i7|\n|Intel UHD Graphic...| 64|     Dell| 322.0|Integrated/On-Boa...|Very Good - Refur...|Intel Core i5 8th...|Dell 5500 15.6\" T...|          0|  0|141.21199|Intel Core i5|\n|Intel UHD Graphic...| 64|     Dell|299.99|Integrated/On-Boa...|Very Good - Refur...|Intel Core i5 8th...|Dell Latitude 550...|          0|  0|141.21199|Intel Core i5|\n|Intel HD Graphics...|  8|     Dell|319.99|Integrated/On-Boa...|Very Good - Refur...|Intel Core i5 6th...|Dell Latitude 541...|          0|  0| 111.9352|Intel Core i5|\n+--------------------+---+---------+------+--------------------+--------------------+--------------------+--------------------+-----------+---+---------+-------------+\nonly showing top 20 rows\n\n"
     ]
    }
   ],
   "source": [
    "from pyspark.sql.functions import split, concat_ws, array\n",
    "\n",
    "# Split the 'Processor' column into an array of words and then take the first three words\n",
    "df = df.withColumn('Cpu Name', concat_ws(\" \", array([split(df['Processor'], ' ')[i] for i in range(3)])))\n",
    "\n",
    "# Show the resulting DataFrame\n",
    "df.show()\n"
   ]
  },
  {
   "cell_type": "code",
   "execution_count": 0,
   "metadata": {
    "application/vnd.databricks.v1+cell": {
     "cellMetadata": {
      "byteLimit": 2048000,
      "rowLimit": 10000
     },
     "inputWidgets": {},
     "nuid": "1dfe9575-5348-4b53-9be7-263415dac58a",
     "showTitle": false,
     "title": ""
    }
   },
   "outputs": [],
   "source": [
    "from pyspark.sql.types import StringType\n",
    "\n",
    "def fetch_processor(text):\n",
    "    if text in ['Intel Core i7', 'Intel Core i5', 'Intel Core i3']:\n",
    "        return text\n",
    "    else:\n",
    "        if text.split()[0] == 'Intel':\n",
    "            return 'Other Intel Processor'\n",
    "        else:\n",
    "            return 'AMD Processor'\n",
    "\n",
    "# Register the function as a UDF\n",
    "fetch_processor_udf = udf(fetch_processor, StringType())"
   ]
  },
  {
   "cell_type": "code",
   "execution_count": 0,
   "metadata": {
    "application/vnd.databricks.v1+cell": {
     "cellMetadata": {
      "byteLimit": 2048000,
      "rowLimit": 10000
     },
     "inputWidgets": {},
     "nuid": "2ddc5e12-7ecb-4a08-9abb-a242fd819acd",
     "showTitle": false,
     "title": ""
    }
   },
   "outputs": [
    {
     "output_type": "stream",
     "name": "stdout",
     "output_type": "stream",
     "text": [
      "+--------------------+---+---------+------+--------------------+--------------------+--------------------+--------------------+-----------+---+---------+-------------+-------------+\n|                 GPU|RAM|    Brand| Price|            GPU_Type|           Condition|           Processor| Product_Description|Touchscreen|Ips|      ppi|     Cpu Name|    Cpu brand|\n+--------------------+---+---------+------+--------------------+--------------------+--------------------+--------------------+-----------+---+---------+-------------+-------------+\n|Intel HD Graphics...| 16|   Lenovo|189.99|Integrated/On-Boa...|Very Good - Refur...|Intel Core i5 7th...|Lenovo ThinkPad 1...|          0|  0|157.35051|Intel Core i5|Intel Core i5|\n|Intel UHD Graphic...| 64|     Dell|349.99|Integrated/On-Boa...|Very Good - Refur...|Intel Core i5 8th...|Dell Latitude 15....|          0|  0|141.21199|Intel Core i5|Intel Core i5|\n|Intel Iris Xe Gra...|  8|       HP|369.95|Integrated/On-Boa...|                 New|Intel Core i5 11t...|NEW HP 15 Laptop....|          0|  0|141.21199|Intel Core i5|Intel Core i5|\n|Intel Iris Xe Gra...| 16|   Lenovo| 499.0|Integrated/On-Boa...|                 New|Intel Core i5 11t...|2024 Lenovo Ideap...|          0|  0|141.21199|Intel Core i5|Intel Core i5|\n|Intel Iris Xe Gra...|  8|Microsoft| 349.0|Integrated/On-Boa...|            Open box|Intel Core i5 12t...|Microsoft Surface...|          0|  0|200.84256|Intel Core i5|Intel Core i5|\n|Intel Iris Xe Gra...| 16|   Lenovo|529.98|Integrated/On-Boa...|            Open box|Intel Core i7 13t...|Lenovo V15 G4 IRU...|          0|  0|141.21199|Intel Core i7|Intel Core i7|\n|Intel HD Graphics...| 64|     Dell|319.99|Integrated/On-Boa...|Very Good - Refur...|Intel Core i5 7th...|Dell Latitude 15....|          0|  0|141.21199|Intel Core i5|Intel Core i5|\n|Intel HD Graphics...|  8|Microsoft| 245.0|Integrated/On-Boa...|Very Good - Refur...|Intel Core i5 8th...|Microsoft Surface...|          0|  0|200.84256|Intel Core i5|Intel Core i5|\n|   Intel HD Graphics| 16|   Lenovo|179.99|Integrated/On-Boa...|Excellent - Refur...|Intel Core i5 6th...|Lenovo ThinkPad T...|          0|  0|157.35051|Intel Core i5|Intel Core i5|\n| NVIDIA Quadro M2200| 16|   Lenovo|314.96|  Dedicated Graphics|Very Good - Refur...|Intel Core i7 7th...|Lenovo ThinkPad P...|          0|  0|141.21199|Intel Core i7|Intel Core i7|\n|Intel Iris Xe Gra...| 16|     Dell| 550.0|Integrated/On-Boa...|                 New|Intel Core i5 13t...|New Dell Latitude...|          0|  0|157.35051|Intel Core i5|Intel Core i5|\n|Intel Iris Xe Gra...| 16|     Dell| 459.0|Integrated/On-Boa...|            Open box|Intel Core i5 13t...|Dell Latitude 544...|          0|  0|157.35051|Intel Core i5|Intel Core i5|\n|NVIDIA GeForce RT...| 16|     Asus| 732.0|  Dedicated Graphics|Very Good - Refur...|Intel Core i7 12t...|ASUS ROG Flow Z13...|          0|  0|168.96683|Intel Core i7|Intel Core i7|\n|                null| 32|     Dell| 429.0|Integrated/On-Boa...|Very Good - Refur...|Intel Core i7 11t...|Dell Latitude 542...|          0|  0|157.35051|Intel Core i7|Intel Core i7|\n|                null| 16|     Dell|219.99|Integrated/On-Boa...|Very Good - Refur...|Intel Core i5 6th...|Dell laptop Latit...|          0|  0|157.35051|Intel Core i5|Intel Core i5|\n|Intel Iris Xe Gra...|  8|   Lenovo|247.45|Integrated/On-Boa...|Very Good - Refur...|Intel Core i5 11t...|Lenovo ThinkPad L...|          0|  0|165.63211|Intel Core i5|Intel Core i5|\n|NVIDIA GeForce RT...| 16|     Asus| 699.0|  Dedicated Graphics|            Open box|Intel Core i7 13t...|ASUS 15.6\" Q530VJ...|          0|  0|141.21199|Intel Core i7|Intel Core i7|\n|Intel UHD Graphic...| 64|     Dell| 322.0|Integrated/On-Boa...|Very Good - Refur...|Intel Core i5 8th...|Dell 5500 15.6\" T...|          0|  0|141.21199|Intel Core i5|Intel Core i5|\n|Intel UHD Graphic...| 64|     Dell|299.99|Integrated/On-Boa...|Very Good - Refur...|Intel Core i5 8th...|Dell Latitude 550...|          0|  0|141.21199|Intel Core i5|Intel Core i5|\n|Intel HD Graphics...|  8|     Dell|319.99|Integrated/On-Boa...|Very Good - Refur...|Intel Core i5 6th...|Dell Latitude 541...|          0|  0| 111.9352|Intel Core i5|Intel Core i5|\n+--------------------+---+---------+------+--------------------+--------------------+--------------------+--------------------+-----------+---+---------+-------------+-------------+\nonly showing top 20 rows\n\n"
     ]
    }
   ],
   "source": [
    "# Apply the UDF to create the 'Cpu brand' column\n",
    "df = df.withColumn('Cpu brand', fetch_processor_udf(df['Cpu Name']))\n",
    "\n",
    "# Show the resulting DataFrame\n",
    "df.show()"
   ]
  },
  {
   "cell_type": "code",
   "execution_count": 0,
   "metadata": {
    "application/vnd.databricks.v1+cell": {
     "cellMetadata": {
      "byteLimit": 2048000,
      "rowLimit": 10000
     },
     "inputWidgets": {},
     "nuid": "a93daaea-6b0c-467b-965c-1c15316a29db",
     "showTitle": false,
     "title": ""
    }
   },
   "outputs": [
    {
     "output_type": "stream",
     "name": "stdout",
     "output_type": "stream",
     "text": [
      "+---------------------+-----+\n|Cpu brand            |count|\n+---------------------+-----+\n|Intel Core i3        |283  |\n|Other Intel Processor|21   |\n|Intel Core i5        |1384 |\n|Intel Core i7        |1200 |\n|AMD Processor        |59   |\n+---------------------+-----+\n\n"
     ]
    }
   ],
   "source": [
    "df.groupBy('Cpu brand').count().show(truncate=False)"
   ]
  },
  {
   "cell_type": "code",
   "execution_count": 0,
   "metadata": {
    "application/vnd.databricks.v1+cell": {
     "cellMetadata": {
      "byteLimit": 2048000,
      "rowLimit": 10000
     },
     "inputWidgets": {},
     "nuid": "1bd419bd-d159-4968-a45b-5fc7733151fa",
     "showTitle": false,
     "title": ""
    }
   },
   "outputs": [
    {
     "output_type": "stream",
     "name": "stdout",
     "output_type": "stream",
     "text": [
      "+--------------------+---+---------+------+--------------------+--------------------+--------------------+-----------+---+---------+-------------+\n|                 GPU|RAM|    Brand| Price|            GPU_Type|           Condition| Product_Description|Touchscreen|Ips|      ppi|    Cpu brand|\n+--------------------+---+---------+------+--------------------+--------------------+--------------------+-----------+---+---------+-------------+\n|Intel HD Graphics...| 16|   Lenovo|189.99|Integrated/On-Boa...|Very Good - Refur...|Lenovo ThinkPad 1...|          0|  0|157.35051|Intel Core i5|\n|Intel UHD Graphic...| 64|     Dell|349.99|Integrated/On-Boa...|Very Good - Refur...|Dell Latitude 15....|          0|  0|141.21199|Intel Core i5|\n|Intel Iris Xe Gra...|  8|       HP|369.95|Integrated/On-Boa...|                 New|NEW HP 15 Laptop....|          0|  0|141.21199|Intel Core i5|\n|Intel Iris Xe Gra...| 16|   Lenovo| 499.0|Integrated/On-Boa...|                 New|2024 Lenovo Ideap...|          0|  0|141.21199|Intel Core i5|\n|Intel Iris Xe Gra...|  8|Microsoft| 349.0|Integrated/On-Boa...|            Open box|Microsoft Surface...|          0|  0|200.84256|Intel Core i5|\n|Intel Iris Xe Gra...| 16|   Lenovo|529.98|Integrated/On-Boa...|            Open box|Lenovo V15 G4 IRU...|          0|  0|141.21199|Intel Core i7|\n|Intel HD Graphics...| 64|     Dell|319.99|Integrated/On-Boa...|Very Good - Refur...|Dell Latitude 15....|          0|  0|141.21199|Intel Core i5|\n|Intel HD Graphics...|  8|Microsoft| 245.0|Integrated/On-Boa...|Very Good - Refur...|Microsoft Surface...|          0|  0|200.84256|Intel Core i5|\n|   Intel HD Graphics| 16|   Lenovo|179.99|Integrated/On-Boa...|Excellent - Refur...|Lenovo ThinkPad T...|          0|  0|157.35051|Intel Core i5|\n| NVIDIA Quadro M2200| 16|   Lenovo|314.96|  Dedicated Graphics|Very Good - Refur...|Lenovo ThinkPad P...|          0|  0|141.21199|Intel Core i7|\n|Intel Iris Xe Gra...| 16|     Dell| 550.0|Integrated/On-Boa...|                 New|New Dell Latitude...|          0|  0|157.35051|Intel Core i5|\n|Intel Iris Xe Gra...| 16|     Dell| 459.0|Integrated/On-Boa...|            Open box|Dell Latitude 544...|          0|  0|157.35051|Intel Core i5|\n|NVIDIA GeForce RT...| 16|     Asus| 732.0|  Dedicated Graphics|Very Good - Refur...|ASUS ROG Flow Z13...|          0|  0|168.96683|Intel Core i7|\n|                null| 32|     Dell| 429.0|Integrated/On-Boa...|Very Good - Refur...|Dell Latitude 542...|          0|  0|157.35051|Intel Core i7|\n|                null| 16|     Dell|219.99|Integrated/On-Boa...|Very Good - Refur...|Dell laptop Latit...|          0|  0|157.35051|Intel Core i5|\n|Intel Iris Xe Gra...|  8|   Lenovo|247.45|Integrated/On-Boa...|Very Good - Refur...|Lenovo ThinkPad L...|          0|  0|165.63211|Intel Core i5|\n|NVIDIA GeForce RT...| 16|     Asus| 699.0|  Dedicated Graphics|            Open box|ASUS 15.6\" Q530VJ...|          0|  0|141.21199|Intel Core i7|\n|Intel UHD Graphic...| 64|     Dell| 322.0|Integrated/On-Boa...|Very Good - Refur...|Dell 5500 15.6\" T...|          0|  0|141.21199|Intel Core i5|\n|Intel UHD Graphic...| 64|     Dell|299.99|Integrated/On-Boa...|Very Good - Refur...|Dell Latitude 550...|          0|  0|141.21199|Intel Core i5|\n|Intel HD Graphics...|  8|     Dell|319.99|Integrated/On-Boa...|Very Good - Refur...|Dell Latitude 541...|          0|  0| 111.9352|Intel Core i5|\n+--------------------+---+---------+------+--------------------+--------------------+--------------------+-----------+---+---------+-------------+\nonly showing top 20 rows\n\n"
     ]
    }
   ],
   "source": [
    "# Drop the columns from the PySpark DataFrame\n",
    "df = df.drop('Processor','Cpu name')\n",
    "\n",
    "# Show the DataFrame to confirm the columns have been dropped\n",
    "df.show()"
   ]
  },
  {
   "cell_type": "code",
   "execution_count": 0,
   "metadata": {
    "application/vnd.databricks.v1+cell": {
     "cellMetadata": {
      "byteLimit": 2048000,
      "rowLimit": 10000
     },
     "inputWidgets": {},
     "nuid": "1d84a61e-5477-414e-bbd5-4cf3755eb4fd",
     "showTitle": false,
     "title": ""
    }
   },
   "outputs": [
    {
     "output_type": "stream",
     "name": "stdout",
     "output_type": "stream",
     "text": [
      "+--------------------------------------------------------------------------------+-----------------------+---+---------+------+----------------------------+-----------------------+-----------+---+---------+-------------+------+------+\n|Product_Description                                                             |GPU                    |RAM|Brand    |Price |GPU_Type                    |Condition              |Touchscreen|Ips|ppi      |Cpu brand    |HDD_GB|SSD_GB|\n+--------------------------------------------------------------------------------+-----------------------+---+---------+------+----------------------------+-----------------------+-----------+---+---------+-------------+------+------+\n|Lenovo ThinkPad L13 Gen 2 13.3\" Laptop i5 11th Gen 256GB SSD 8GB RAM Win 10 (OC)|Intel Iris Xe Graphics |8  |Lenovo   |247.45|Integrated/On-Board Graphics|Very Good - Refurbished|0          |0  |165.63211|Intel Core i5|0     |256   |\n|Dell Latitude 5440 14\" Intel Core I5-1335U 16GB RAM 512GB SSD WIN 11 P WARRANTY |Intel Iris Xe Graphics |16 |Dell     |459.0 |Integrated/On-Board Graphics|Open box               |0          |0  |157.35051|Intel Core i5|0     |512   |\n|NEW HP 15 Laptop. 15.6\" 1080p, i5-1135G7, 8GB RAM, 256GB SSD,Win 11 -15-dy2795wm|Intel Iris Xe Graphics |8  |HP       |369.95|Integrated/On-Board Graphics|New                    |0          |0  |141.21199|Intel Core i5|0     |256   |\n|Dell Latitude 15.6\" Laptop Intel Core i5 64GB RAM 2TB SSD Wi-Fi Windows 11 Pro  |Intel UHD Graphics 620 |64 |Dell     |349.99|Integrated/On-Board Graphics|Very Good - Refurbished|0          |0  |141.21199|Intel Core i5|0     |2048  |\n|Lenovo V15 G4 IRU 15.6\" Full HD Laptop, i7-1355U, 16GB RAM, 1TB SSD, W11P, Black|Intel Iris Xe Graphics |16 |Lenovo   |529.98|Integrated/On-Board Graphics|Open box               |0          |0  |141.21199|Intel Core i7|0     |1024  |\n|New Dell Latitude 5440 256GB SSD, Intel Core i5 13th Gen 4.6GHz, 16GB Laptop    |Intel Iris Xe Graphics |16 |Dell     |550.0 |Integrated/On-Board Graphics|New                    |0          |0  |157.35051|Intel Core i5|0     |256   |\n|Dell Latitude laptop 7300 13.3\" FHD QC i7-8665U 16GB 256gb SSD Win 11 pro WIFI  |null                   |16 |Dell     |229.99|Integrated/On-Board Graphics|Excellent - Refurbished|0          |0  |165.63211|Intel Core i7|0     |0     |\n|Dell laptop Latitude 7480 14\" i5 2.60GHz 16GB NEW 512GB SSD Win 11 Pro WIFI cam |null                   |16 |Dell     |219.99|Integrated/On-Board Graphics|Very Good - Refurbished|0          |0  |157.35051|Intel Core i5|0     |512   |\n|ASUS ROG Flow Z13 120Hz FHD+ i7 RTX 3050 16GB RAM 256GB SSD GZ301ZC-PS73        |NVIDIA GeForce RTX 3050|16 |Asus     |732.0 |Dedicated Graphics          |Very Good - Refurbished|0          |0  |168.96683|Intel Core i7|0     |256   |\n|ASUS 15.6\" Q530VJ- I73050 512GB SSD Intel Core i7 13th Gen 4.90 GHz 16GB Laptop |NVIDIA GeForce RTX 3050|16 |Asus     |699.0 |Dedicated Graphics          |Open box               |0          |0  |141.21199|Intel Core i7|0     |512   |\n|Dell Latitude 15.6\" Laptop Intel Core i5 64GB RAM 2TB SSD Wi-Fi Windows 10 Pro  |Intel HD Graphics 620  |64 |Dell     |319.99|Integrated/On-Board Graphics|Very Good - Refurbished|0          |0  |141.21199|Intel Core i5|0     |2048  |\n|Dell Latitude 5500 Laptop PC Intel Core i5 4.10GHz 64GB RAM 2TB SSD Win 11 Pro  |Intel UHD Graphics 620 |64 |Dell     |299.99|Integrated/On-Board Graphics|Very Good - Refurbished|0          |0  |141.21199|Intel Core i5|0     |2048  |\n|Lenovo ThinkPad T470 14' LCD i5 Laptop PC 16GB RAM 256GB SSD Win 11 pro Cam Wifi|Intel HD Graphics      |16 |Lenovo   |179.99|Integrated/On-Board Graphics|Excellent - Refurbished|0          |0  |157.35051|Intel Core i5|0     |256   |\n|Dell 5500 15.6\" Touch Light Gaming Laptop Intel Core i5 4.10GHz 64GB RAM 2TB SSD|Intel UHD Graphics 620 |64 |Dell     |322.0 |Integrated/On-Board Graphics|Very Good - Refurbished|0          |0  |141.21199|Intel Core i5|0     |2048  |\n|Microsoft Surface Laptop 5 13.5\" - 512GB SSD, Intel Core i5 12th Gen., 8Gb RAM  |Intel Iris Xe Graphics |8  |Microsoft|349.0 |Integrated/On-Board Graphics|Open box               |0          |0  |200.84256|Intel Core i5|0     |512   |\n|Dell Latitude 5414 Rugged 14” Laptop PC Core i5 8GB RAM 256GB SSD Windows 10 Pro|Intel HD Graphics 520  |8  |Dell     |319.99|Integrated/On-Board Graphics|Very Good - Refurbished|0          |0  |111.9352 |Intel Core i5|0     |256   |\n|Lenovo ThinkPad P51 15.6\" Laptop i7 NVIDIA 256GB SSD 16GB RAM Win 10 Pro (OC)   |NVIDIA Quadro M2200    |16 |Lenovo   |314.96|Dedicated Graphics          |Very Good - Refurbished|0          |0  |141.21199|Intel Core i7|0     |256   |\n|Lenovo ThinkPad 14” HD Laptop PC Computer Core i5 16GB RAM 256GB SSD Windows 10 |Intel HD Graphics 520  |16 |Lenovo   |189.99|Integrated/On-Board Graphics|Very Good - Refurbished|0          |0  |157.35051|Intel Core i5|0     |256   |\n|2024 Lenovo Ideapad Laptop 15.6\" FHD Touch Intel i5 16GB RAM & 512GB Win 11 Pro |Intel Iris Xe Graphics |16 |Lenovo   |499.0 |Integrated/On-Board Graphics|New                    |0          |0  |141.21199|Intel Core i5|0     |0     |\n|Microsoft Surface Laptop 2 -8th Gen - i5 - 1.70GHz - 8GB RAM - 256GB SSD (937)  |Intel HD Graphics 620  |8  |Microsoft|245.0 |Integrated/On-Board Graphics|Very Good - Refurbished|0          |0  |200.84256|Intel Core i5|0     |256   |\n+--------------------------------------------------------------------------------+-----------------------+---+---------+------+----------------------------+-----------------------+-----------+---+---------+-------------+------+------+\nonly showing top 20 rows\n\n"
     ]
    }
   ],
   "source": [
    "from pyspark.sql.functions import regexp_extract, col, when, max as max_\n",
    "from pyspark.sql.types import IntegerType\n",
    "\n",
    "# Define regular expression for matching storage sizes and types\n",
    "size_pattern = r\"(\\d+)(TB|GB)\\s(HDD|SSD)\"\n",
    "\n",
    "# Extract sizes and types\n",
    "df = df.withColumn(\"size\", regexp_extract(col(\"Product_Description\"), size_pattern, 1).cast(IntegerType()))\n",
    "df = df.withColumn(\"unit\", regexp_extract(col(\"Product_Description\"), size_pattern, 2))\n",
    "df = df.withColumn(\"type\", regexp_extract(col(\"Product_Description\"), size_pattern, 3))\n",
    "\n",
    "# Convert TB to GB\n",
    "df = df.withColumn(\"size_gb\", when(col(\"unit\") == \"TB\", col(\"size\") * 1024).otherwise(col(\"size\")))\n",
    "\n",
    "# Create separate columns for HDD and SSD\n",
    "df = df.withColumn(\"HDD_GB_temp\", when(col(\"type\") == \"HDD\", col(\"size_gb\")).otherwise(0))\n",
    "df = df.withColumn(\"SSD_GB_temp\", when(col(\"type\") == \"SSD\", col(\"size_gb\")).otherwise(0))\n",
    "\n",
    "# Aggregate to get total HDD and SSD sizes if there are multiple entries per row\n",
    "aggregated_df = df.groupBy(\"Product_Description\").agg(\n",
    "    max_(\"HDD_GB_temp\").alias(\"HDD_GB\"),\n",
    "    max_(\"SSD_GB_temp\").alias(\"SSD_GB\")\n",
    ")\n",
    "\n",
    "# Join the aggregated results back to the original dataframe\n",
    "df = df.join(aggregated_df, on=\"Product_Description\", how=\"left\")\n",
    "\n",
    "# Drop temporary columns\n",
    "df = df.drop(\"size\", \"unit\", \"type\", \"size_gb\", \"HDD_GB_temp\", \"SSD_GB_temp\")\n",
    "\n",
    "# Show the result\n",
    "df.show(truncate=False)\n"
   ]
  },
  {
   "cell_type": "code",
   "execution_count": 0,
   "metadata": {
    "application/vnd.databricks.v1+cell": {
     "cellMetadata": {
      "byteLimit": 2048000,
      "rowLimit": 10000
     },
     "inputWidgets": {},
     "nuid": "a8b0a19f-898a-4e6b-bd80-a4d718c2c4b2",
     "showTitle": false,
     "title": ""
    }
   },
   "outputs": [
    {
     "output_type": "stream",
     "name": "stdout",
     "output_type": "stream",
     "text": [
      "+--------------------------------------------------------------------------------+-----------------------+---+---------+------+----------------------------+-----------------------+-----------+---+---------+-------------+------+------+\n|Product_Description                                                             |GPU                    |RAM|Brand    |Price |GPU_Type                    |Condition              |Touchscreen|Ips|ppi      |Cpu brand    |HDD_GB|SSD_GB|\n+--------------------------------------------------------------------------------+-----------------------+---+---------+------+----------------------------+-----------------------+-----------+---+---------+-------------+------+------+\n|Lenovo ThinkPad L13 Gen 2 13.3\" Laptop i5 11th Gen 256GB SSD 8GB RAM Win 10 (OC)|Intel Iris Xe Graphics |8  |Lenovo   |247.45|Integrated/On-Board Graphics|Very Good - Refurbished|0          |0  |165.63211|Intel Core i5|0     |256   |\n|Dell Latitude 5440 14\" Intel Core I5-1335U 16GB RAM 512GB SSD WIN 11 P WARRANTY |Intel Iris Xe Graphics |16 |Dell     |459.0 |Integrated/On-Board Graphics|Open box               |0          |0  |157.35051|Intel Core i5|0     |512   |\n|NEW HP 15 Laptop. 15.6\" 1080p, i5-1135G7, 8GB RAM, 256GB SSD,Win 11 -15-dy2795wm|Intel Iris Xe Graphics |8  |HP       |369.95|Integrated/On-Board Graphics|New                    |0          |0  |141.21199|Intel Core i5|0     |256   |\n|Dell Latitude 15.6\" Laptop Intel Core i5 64GB RAM 2TB SSD Wi-Fi Windows 11 Pro  |Intel UHD Graphics 620 |64 |Dell     |349.99|Integrated/On-Board Graphics|Very Good - Refurbished|0          |0  |141.21199|Intel Core i5|0     |2048  |\n|Lenovo V15 G4 IRU 15.6\" Full HD Laptop, i7-1355U, 16GB RAM, 1TB SSD, W11P, Black|Intel Iris Xe Graphics |16 |Lenovo   |529.98|Integrated/On-Board Graphics|Open box               |0          |0  |141.21199|Intel Core i7|0     |1024  |\n|New Dell Latitude 5440 256GB SSD, Intel Core i5 13th Gen 4.6GHz, 16GB Laptop    |Intel Iris Xe Graphics |16 |Dell     |550.0 |Integrated/On-Board Graphics|New                    |0          |0  |157.35051|Intel Core i5|0     |256   |\n|Dell Latitude laptop 7300 13.3\" FHD QC i7-8665U 16GB 256gb SSD Win 11 pro WIFI  |null                   |16 |Dell     |229.99|Integrated/On-Board Graphics|Excellent - Refurbished|0          |0  |165.63211|Intel Core i7|0     |512   |\n|Dell laptop Latitude 7480 14\" i5 2.60GHz 16GB NEW 512GB SSD Win 11 Pro WIFI cam |null                   |16 |Dell     |219.99|Integrated/On-Board Graphics|Very Good - Refurbished|0          |0  |157.35051|Intel Core i5|0     |512   |\n|ASUS ROG Flow Z13 120Hz FHD+ i7 RTX 3050 16GB RAM 256GB SSD GZ301ZC-PS73        |NVIDIA GeForce RTX 3050|16 |Asus     |732.0 |Dedicated Graphics          |Very Good - Refurbished|0          |0  |168.96683|Intel Core i7|0     |256   |\n|ASUS 15.6\" Q530VJ- I73050 512GB SSD Intel Core i7 13th Gen 4.90 GHz 16GB Laptop |NVIDIA GeForce RTX 3050|16 |Asus     |699.0 |Dedicated Graphics          |Open box               |0          |0  |141.21199|Intel Core i7|0     |512   |\n|Dell Latitude 15.6\" Laptop Intel Core i5 64GB RAM 2TB SSD Wi-Fi Windows 10 Pro  |Intel HD Graphics 620  |64 |Dell     |319.99|Integrated/On-Board Graphics|Very Good - Refurbished|0          |0  |141.21199|Intel Core i5|0     |2048  |\n|Dell Latitude 5500 Laptop PC Intel Core i5 4.10GHz 64GB RAM 2TB SSD Win 11 Pro  |Intel UHD Graphics 620 |64 |Dell     |299.99|Integrated/On-Board Graphics|Very Good - Refurbished|0          |0  |141.21199|Intel Core i5|0     |2048  |\n|Lenovo ThinkPad T470 14' LCD i5 Laptop PC 16GB RAM 256GB SSD Win 11 pro Cam Wifi|Intel HD Graphics      |16 |Lenovo   |179.99|Integrated/On-Board Graphics|Excellent - Refurbished|0          |0  |157.35051|Intel Core i5|0     |256   |\n|Dell 5500 15.6\" Touch Light Gaming Laptop Intel Core i5 4.10GHz 64GB RAM 2TB SSD|Intel UHD Graphics 620 |64 |Dell     |322.0 |Integrated/On-Board Graphics|Very Good - Refurbished|0          |0  |141.21199|Intel Core i5|0     |2048  |\n|Microsoft Surface Laptop 5 13.5\" - 512GB SSD, Intel Core i5 12th Gen., 8Gb RAM  |Intel Iris Xe Graphics |8  |Microsoft|349.0 |Integrated/On-Board Graphics|Open box               |0          |0  |200.84256|Intel Core i5|0     |512   |\n|Dell Latitude 5414 Rugged 14” Laptop PC Core i5 8GB RAM 256GB SSD Windows 10 Pro|Intel HD Graphics 520  |8  |Dell     |319.99|Integrated/On-Board Graphics|Very Good - Refurbished|0          |0  |111.9352 |Intel Core i5|0     |256   |\n|Lenovo ThinkPad P51 15.6\" Laptop i7 NVIDIA 256GB SSD 16GB RAM Win 10 Pro (OC)   |NVIDIA Quadro M2200    |16 |Lenovo   |314.96|Dedicated Graphics          |Very Good - Refurbished|0          |0  |141.21199|Intel Core i7|0     |256   |\n|Lenovo ThinkPad 14” HD Laptop PC Computer Core i5 16GB RAM 256GB SSD Windows 10 |Intel HD Graphics 520  |16 |Lenovo   |189.99|Integrated/On-Board Graphics|Very Good - Refurbished|0          |0  |157.35051|Intel Core i5|0     |256   |\n|2024 Lenovo Ideapad Laptop 15.6\" FHD Touch Intel i5 16GB RAM & 512GB Win 11 Pro |Intel Iris Xe Graphics |16 |Lenovo   |499.0 |Integrated/On-Board Graphics|New                    |0          |0  |141.21199|Intel Core i5|0     |512   |\n|Microsoft Surface Laptop 2 -8th Gen - i5 - 1.70GHz - 8GB RAM - 256GB SSD (937)  |Intel HD Graphics 620  |8  |Microsoft|245.0 |Integrated/On-Board Graphics|Very Good - Refurbished|0          |0  |200.84256|Intel Core i5|0     |256   |\n+--------------------------------------------------------------------------------+-----------------------+---+---------+------+----------------------------+-----------------------+-----------+---+---------+-------------+------+------+\nonly showing top 20 rows\n\n"
     ]
    }
   ],
   "source": [
    "# Add 512 in SSD_GB where both HDD_GB and SSD_GB are 0\n",
    "df = df.withColumn(\"SSD_GB\", when((col(\"HDD_GB\") == 0) & (col(\"SSD_GB\") == 0), 512).otherwise(col(\"SSD_GB\")))\n",
    "\n",
    "# Show the updated DataFrame\n",
    "df.show(truncate=False)"
   ]
  },
  {
   "cell_type": "markdown",
   "metadata": {
    "application/vnd.databricks.v1+cell": {
     "cellMetadata": {
      "byteLimit": 2048000,
      "rowLimit": 10000
     },
     "inputWidgets": {},
     "nuid": "cc29a835-0b64-4bfa-9269-01109b33e13b",
     "showTitle": false,
     "title": ""
    }
   },
   "source": [
    "#ML"
   ]
  },
  {
   "cell_type": "code",
   "execution_count": 0,
   "metadata": {
    "application/vnd.databricks.v1+cell": {
     "cellMetadata": {
      "byteLimit": 2048000,
      "rowLimit": 10000
     },
     "inputWidgets": {},
     "nuid": "68cbc3f7-3abc-4c2e-acc6-38b8dee463c1",
     "showTitle": false,
     "title": ""
    }
   },
   "outputs": [],
   "source": [
    "from pyspark.ml import Pipeline\n",
    "from pyspark.ml.feature import StringIndexer, OneHotEncoder, VectorAssembler, StandardScaler\n",
    "from pyspark.ml.regression import RandomForestRegressor\n",
    "from pyspark.ml.evaluation import RegressionEvaluator\n",
    "from pyspark.sql import SparkSession\n",
    "from pyspark.sql.functions import col\n",
    "\n",
    "# Assuming df is your DataFrame with necessary columns\n",
    "\n",
    "# Define categorical columns\n",
    "cat_cols = ['GPU', 'Brand', 'GPU_Type', 'Condition', 'Cpu brand']\n",
    "\n",
    "# Define numeric columns\n",
    "num_cols = ['RAM', 'HDD_GB', 'SSD_GB', 'Touchscreen', 'Ips', 'ppi']"
   ]
  },
  {
   "cell_type": "code",
   "execution_count": 0,
   "metadata": {
    "application/vnd.databricks.v1+cell": {
     "cellMetadata": {
      "byteLimit": 2048000,
      "rowLimit": 10000
     },
     "inputWidgets": {},
     "nuid": "032e8a89-5cdb-49f9-b4d8-da212984e21d",
     "showTitle": false,
     "title": ""
    }
   },
   "outputs": [],
   "source": [
    "# StringIndexer and OneHotEncoder for categorical columns\n",
    "indexers = [StringIndexer(inputCol=col, outputCol=f\"{col}_index\", handleInvalid=\"keep\") for col in cat_cols]\n",
    "encoders = [OneHotEncoder(inputCol=f\"{col}_index\", outputCol=f\"{col}_encoded\") for col in cat_cols]"
   ]
  },
  {
   "cell_type": "code",
   "execution_count": 0,
   "metadata": {
    "application/vnd.databricks.v1+cell": {
     "cellMetadata": {
      "byteLimit": 2048000,
      "rowLimit": 10000
     },
     "inputWidgets": {},
     "nuid": "8e33a49d-5cbb-4cf2-bec8-739488e6f840",
     "showTitle": false,
     "title": ""
    }
   },
   "outputs": [],
   "source": [
    "# Assemble all features into a vector\n",
    "assembler = VectorAssembler(inputCols=[f\"{col}_encoded\" for col in cat_cols] + num_cols, outputCol=\"features\")\n",
    "\n",
    "# Define the model\n",
    "model = RandomForestRegressor(featuresCol=\"features\", labelCol=\"Price\", seed=42)\n",
    "\n",
    "# Create a pipeline\n",
    "pipeline = Pipeline(stages=indexers + encoders + [assembler, model])\n",
    "\n",
    "# Fit the pipeline to the data\n",
    "pipeline_model = pipeline.fit(df)\n",
    "\n",
    "# Split data into train and test sets\n",
    "train_data, test_data = df.randomSplit([0.8, 0.2], seed=42)"
   ]
  },
  {
   "cell_type": "code",
   "execution_count": 0,
   "metadata": {
    "application/vnd.databricks.v1+cell": {
     "cellMetadata": {
      "byteLimit": 2048000,
      "rowLimit": 10000
     },
     "inputWidgets": {},
     "nuid": "a4ca5b97-c9d1-4b2a-b554-1586d3c00b74",
     "showTitle": false,
     "title": ""
    }
   },
   "outputs": [
    {
     "output_type": "stream",
     "name": "stdout",
     "output_type": "stream",
     "text": [
      "Root Mean Squared Error (RMSE): 180.39727520493352\n"
     ]
    }
   ],
   "source": [
    "# Make predictions\n",
    "predictions = pipeline_model.transform(test_data)\n",
    "\n",
    "# Evaluate the model\n",
    "evaluator = RegressionEvaluator(labelCol=\"Price\", predictionCol=\"prediction\", metricName=\"rmse\")\n",
    "rmse = evaluator.evaluate(predictions)\n",
    "print(f\"Root Mean Squared Error (RMSE): {rmse}\")"
   ]
  },
  {
   "cell_type": "code",
   "execution_count": 0,
   "metadata": {
    "application/vnd.databricks.v1+cell": {
     "cellMetadata": {
      "byteLimit": 2048000,
      "rowLimit": 10000
     },
     "inputWidgets": {},
     "nuid": "3d894d51-a0cf-4103-ab51-46619111193f",
     "showTitle": false,
     "title": ""
    }
   },
   "outputs": [
    {
     "output_type": "stream",
     "name": "stdout",
     "output_type": "stream",
     "text": [
      "Baseline Model RMSE: 235.7072632135551\n"
     ]
    }
   ],
   "source": [
    "from pyspark.sql import functions as F\n",
    "from pyspark.sql.types import DoubleType\n",
    "from pyspark.ml.evaluation import RegressionEvaluator\n",
    "\n",
    "# Assuming df is your DataFrame with 'Price' column\n",
    "\n",
    "# Step 1: Calculate the mean price\n",
    "mean_price = df.agg(F.mean('Price')).collect()[0][0]\n",
    "\n",
    "# Step 2: Create predictions based on mean price\n",
    "baseline_df = df.withColumn('Baseline_Prediction', F.lit(mean_price))\n",
    "\n",
    "# Step 3: Evaluate the baseline model using RMSE\n",
    "evaluator = RegressionEvaluator(labelCol='Price', predictionCol='Baseline_Prediction', metricName='rmse')\n",
    "rmse_baseline = evaluator.evaluate(baseline_df)\n",
    "\n",
    "print(f\"Baseline Model RMSE: {rmse_baseline}\")"
   ]
  },
  {
   "cell_type": "code",
   "execution_count": 0,
   "metadata": {
    "application/vnd.databricks.v1+cell": {
     "cellMetadata": {
      "byteLimit": 2048000,
      "rowLimit": 10000
     },
     "inputWidgets": {},
     "nuid": "a6aca7cb-9804-457b-9806-d7d190b6181c",
     "showTitle": false,
     "title": ""
    }
   },
   "outputs": [
    {
     "output_type": "stream",
     "name": "stdout",
     "output_type": "stream",
     "text": [
      "+---+--------------------+---+---------+------+--------------------+--------------------+--------------------+-----------+---+---------+-------------+---+----+\n| SL|                 GPU|RAM|    Brand| Price|            GPU_Type|           Condition| Product_Description|Touchscreen|Ips|      ppi|    Cpu brand|HDD| SSD|\n+---+--------------------+---+---------+------+--------------------+--------------------+--------------------+-----------+---+---------+-------------+---+----+\n|  0|Intel HD Graphics...| 16|   Lenovo|189.99|Integrated/On-Boa...|Very Good - Refur...|Lenovo ThinkPad 1...|          0|  0|157.35051|Intel Core i5|  0| 256|\n|  1|Intel UHD Graphic...| 64|     Dell|349.99|Integrated/On-Boa...|Very Good - Refur...|Dell Latitude 15....|          0|  0|141.21199|Intel Core i5|  0|2048|\n|  2|Intel Iris Xe Gra...|  8|       HP|369.95|Integrated/On-Boa...|                 New|NEW HP 15 Laptop....|          0|  0|141.21199|Intel Core i5|  0| 256|\n|  3|Intel Iris Xe Gra...| 16|   Lenovo| 499.0|Integrated/On-Boa...|                 New|2024 Lenovo Ideap...|          0|  0|141.21199|Intel Core i5|  0|   0|\n|  4|Intel Iris Xe Gra...|  8|Microsoft| 349.0|Integrated/On-Boa...|            Open box|Microsoft Surface...|          0|  0|200.84256|Intel Core i5|  0| 512|\n|  5|Intel Iris Xe Gra...| 16|   Lenovo|529.98|Integrated/On-Boa...|            Open box|Lenovo V15 G4 IRU...|          0|  0|141.21199|Intel Core i7|  0|1024|\n|  6|Intel HD Graphics...| 64|     Dell|319.99|Integrated/On-Boa...|Very Good - Refur...|Dell Latitude 15....|          0|  0|141.21199|Intel Core i5|  0|2048|\n|  7|Intel HD Graphics...|  8|Microsoft| 245.0|Integrated/On-Boa...|Very Good - Refur...|Microsoft Surface...|          0|  0|200.84256|Intel Core i5|  0| 256|\n|  8|   Intel HD Graphics| 16|   Lenovo|179.99|Integrated/On-Boa...|Excellent - Refur...|Lenovo ThinkPad T...|          0|  0|157.35051|Intel Core i5|  0| 256|\n|  9| NVIDIA Quadro M2200| 16|   Lenovo|314.96|  Dedicated Graphics|Very Good - Refur...|Lenovo ThinkPad P...|          0|  0|141.21199|Intel Core i7|  0| 256|\n| 10|Intel Iris Xe Gra...| 16|     Dell| 550.0|Integrated/On-Boa...|                 New|New Dell Latitude...|          0|  0|157.35051|Intel Core i5|  0| 256|\n| 11|Intel Iris Xe Gra...| 16|     Dell| 459.0|Integrated/On-Boa...|            Open box|Dell Latitude 544...|          0|  0|157.35051|Intel Core i5|  0| 512|\n| 12|NVIDIA GeForce RT...| 16|     Asus| 732.0|  Dedicated Graphics|Very Good - Refur...|ASUS ROG Flow Z13...|          0|  0|168.96683|Intel Core i7|  0| 256|\n| 13|                null| 32|     Dell| 429.0|Integrated/On-Boa...|Very Good - Refur...|Dell Latitude 542...|          0|  0|157.35051|Intel Core i7|  0| 512|\n| 14|                null| 16|     Dell|219.99|Integrated/On-Boa...|Very Good - Refur...|Dell laptop Latit...|          0|  0|157.35051|Intel Core i5|  0| 512|\n| 15|Intel Iris Xe Gra...|  8|   Lenovo|247.45|Integrated/On-Boa...|Very Good - Refur...|Lenovo ThinkPad L...|          0|  0|165.63211|Intel Core i5|  0| 256|\n| 16|NVIDIA GeForce RT...| 16|     Asus| 699.0|  Dedicated Graphics|            Open box|ASUS 15.6\" Q530VJ...|          0|  0|141.21199|Intel Core i7|  0| 512|\n| 17|Intel UHD Graphic...| 64|     Dell| 322.0|Integrated/On-Boa...|Very Good - Refur...|Dell 5500 15.6\" T...|          0|  0|141.21199|Intel Core i5|  0|2048|\n| 18|Intel UHD Graphic...| 64|     Dell|299.99|Integrated/On-Boa...|Very Good - Refur...|Dell Latitude 550...|          0|  0|141.21199|Intel Core i5|  0|2048|\n| 19|Intel HD Graphics...|  8|     Dell|319.99|Integrated/On-Boa...|Very Good - Refur...|Dell Latitude 541...|          0|  0| 111.9352|Intel Core i5|  0| 256|\n+---+--------------------+---+---------+------+--------------------+--------------------+--------------------+-----------+---+---------+-------------+---+----+\nonly showing top 20 rows\n\n"
     ]
    }
   ],
   "source": [
    "#adding SL number to columns\n",
    "from pyspark.sql.functions import monotonically_increasing_id\n",
    "df_with_sl = df.withColumn(\"SL\", monotonically_increasing_id())\n",
    "\n",
    "# Reorder the columns to make SL the first column\n",
    "columns = [\"SL\"] + [col for col in df_with_sl.columns if col != \"SL\"]\n",
    "df_with_sl = df_with_sl.select(columns)\n",
    "\n",
    "df_with_sl.show()"
   ]
  },
  {
   "cell_type": "code",
   "execution_count": 0,
   "metadata": {
    "application/vnd.databricks.v1+cell": {
     "cellMetadata": {
      "byteLimit": 2048000,
      "rowLimit": 10000
     },
     "inputWidgets": {},
     "nuid": "c3653529-2d4f-4842-a4ed-1945acebf337",
     "showTitle": false,
     "title": ""
    }
   },
   "outputs": [
    {
     "output_type": "stream",
     "name": "stdout",
     "output_type": "stream",
     "text": [
      "+-----+--------------------+---+---------+------+--------------------+--------------------+--------------------+-----------+---+---------+-------------+---+----+\n|SL No|                 GPU|RAM|    Brand| Price|            GPU_Type|           Condition| Product_Description|Touchscreen|Ips|      ppi|    Cpu brand|HDD| SSD|\n+-----+--------------------+---+---------+------+--------------------+--------------------+--------------------+-----------+---+---------+-------------+---+----+\n|    0|Intel HD Graphics...| 16|   Lenovo|189.99|Integrated/On-Boa...|Very Good - Refur...|Lenovo ThinkPad 1...|          0|  0|157.35051|Intel Core i5|  0| 256|\n|    1|Intel UHD Graphic...| 64|     Dell|349.99|Integrated/On-Boa...|Very Good - Refur...|Dell Latitude 15....|          0|  0|141.21199|Intel Core i5|  0|2048|\n|    2|Intel Iris Xe Gra...|  8|       HP|369.95|Integrated/On-Boa...|                 New|NEW HP 15 Laptop....|          0|  0|141.21199|Intel Core i5|  0| 256|\n|    3|Intel Iris Xe Gra...| 16|   Lenovo| 499.0|Integrated/On-Boa...|                 New|2024 Lenovo Ideap...|          0|  0|141.21199|Intel Core i5|  0|   0|\n|    4|Intel Iris Xe Gra...|  8|Microsoft| 349.0|Integrated/On-Boa...|            Open box|Microsoft Surface...|          0|  0|200.84256|Intel Core i5|  0| 512|\n|    5|Intel Iris Xe Gra...| 16|   Lenovo|529.98|Integrated/On-Boa...|            Open box|Lenovo V15 G4 IRU...|          0|  0|141.21199|Intel Core i7|  0|1024|\n|    6|Intel HD Graphics...| 64|     Dell|319.99|Integrated/On-Boa...|Very Good - Refur...|Dell Latitude 15....|          0|  0|141.21199|Intel Core i5|  0|2048|\n|    7|Intel HD Graphics...|  8|Microsoft| 245.0|Integrated/On-Boa...|Very Good - Refur...|Microsoft Surface...|          0|  0|200.84256|Intel Core i5|  0| 256|\n|    8|   Intel HD Graphics| 16|   Lenovo|179.99|Integrated/On-Boa...|Excellent - Refur...|Lenovo ThinkPad T...|          0|  0|157.35051|Intel Core i5|  0| 256|\n|    9| NVIDIA Quadro M2200| 16|   Lenovo|314.96|  Dedicated Graphics|Very Good - Refur...|Lenovo ThinkPad P...|          0|  0|141.21199|Intel Core i7|  0| 256|\n|   10|Intel Iris Xe Gra...| 16|     Dell| 550.0|Integrated/On-Boa...|                 New|New Dell Latitude...|          0|  0|157.35051|Intel Core i5|  0| 256|\n|   11|Intel Iris Xe Gra...| 16|     Dell| 459.0|Integrated/On-Boa...|            Open box|Dell Latitude 544...|          0|  0|157.35051|Intel Core i5|  0| 512|\n|   12|NVIDIA GeForce RT...| 16|     Asus| 732.0|  Dedicated Graphics|Very Good - Refur...|ASUS ROG Flow Z13...|          0|  0|168.96683|Intel Core i7|  0| 256|\n|   13|                null| 32|     Dell| 429.0|Integrated/On-Boa...|Very Good - Refur...|Dell Latitude 542...|          0|  0|157.35051|Intel Core i7|  0| 512|\n|   14|                null| 16|     Dell|219.99|Integrated/On-Boa...|Very Good - Refur...|Dell laptop Latit...|          0|  0|157.35051|Intel Core i5|  0| 512|\n|   15|Intel Iris Xe Gra...|  8|   Lenovo|247.45|Integrated/On-Boa...|Very Good - Refur...|Lenovo ThinkPad L...|          0|  0|165.63211|Intel Core i5|  0| 256|\n|   16|NVIDIA GeForce RT...| 16|     Asus| 699.0|  Dedicated Graphics|            Open box|ASUS 15.6\" Q530VJ...|          0|  0|141.21199|Intel Core i7|  0| 512|\n|   17|Intel UHD Graphic...| 64|     Dell| 322.0|Integrated/On-Boa...|Very Good - Refur...|Dell 5500 15.6\" T...|          0|  0|141.21199|Intel Core i5|  0|2048|\n|   18|Intel UHD Graphic...| 64|     Dell|299.99|Integrated/On-Boa...|Very Good - Refur...|Dell Latitude 550...|          0|  0|141.21199|Intel Core i5|  0|2048|\n|   19|Intel HD Graphics...|  8|     Dell|319.99|Integrated/On-Boa...|Very Good - Refur...|Dell Latitude 541...|          0|  0| 111.9352|Intel Core i5|  0| 256|\n+-----+--------------------+---+---------+------+--------------------+--------------------+--------------------+-----------+---+---------+-------------+---+----+\nonly showing top 20 rows\n\n"
     ]
    }
   ],
   "source": [
    "df_with_sl=df_with_sl.withColumnRenamed('SL','SL No') #renaming columns\n",
    "df_with_sl.show()"
   ]
  },
  {
   "cell_type": "markdown",
   "metadata": {
    "application/vnd.databricks.v1+cell": {
     "cellMetadata": {
      "byteLimit": 2048000,
      "rowLimit": 10000
     },
     "inputWidgets": {},
     "nuid": "32d7218e-3aff-4b3d-8d39-7f8b02929ca2",
     "showTitle": true,
     "title": ""
    }
   },
   "source": [
    "#Filter ops\n",
    "Used to display rows WRT condition specified"
   ]
  },
  {
   "cell_type": "code",
   "execution_count": 0,
   "metadata": {
    "application/vnd.databricks.v1+cell": {
     "cellMetadata": {
      "byteLimit": 2048000,
      "rowLimit": 10000
     },
     "inputWidgets": {},
     "nuid": "c2ae1a2c-030e-417f-ac41-c00a83721592",
     "showTitle": false,
     "title": ""
    }
   },
   "outputs": [
    {
     "output_type": "stream",
     "name": "stdout",
     "output_type": "stream",
     "text": [
      "+---+---+-----+-----+--------+---------+-------------------+-----------+---+---+---------+---+---+\n|GPU|RAM|Brand|Price|GPU_Type|Condition|Product_Description|Touchscreen|Ips|ppi|Cpu brand|HDD|SSD|\n+---+---+-----+-----+--------+---------+-------------------+-----------+---+---+---------+---+---+\n+---+---+-----+-----+--------+---------+-------------------+-----------+---+---+---------+---+---+\n\nOut[327]: 0"
     ]
    }
   ],
   "source": [
    "overprices_laptops=df.filter('price>800 and RAM<8') #inside quotes write sql expression\n",
    "overprices_laptops.show()\n",
    "overprices_laptops.count()\n"
   ]
  },
  {
   "cell_type": "markdown",
   "metadata": {
    "application/vnd.databricks.v1+cell": {
     "cellMetadata": {
      "byteLimit": 2048000,
      "rowLimit": 10000
     },
     "inputWidgets": {},
     "nuid": "744ec1d8-cf0a-4649-81c5-abec43375afc",
     "showTitle": false,
     "title": ""
    }
   },
   "source": [
    "#Selection ops\n",
    "Used for displaying specific columns\n",
    "add condition with filter"
   ]
  },
  {
   "cell_type": "code",
   "execution_count": 0,
   "metadata": {
    "application/vnd.databricks.v1+cell": {
     "cellMetadata": {
      "byteLimit": 2048000,
      "rowLimit": 10000
     },
     "inputWidgets": {},
     "nuid": "466c87b3-37e2-4517-8683-e6c24345402f",
     "showTitle": false,
     "title": ""
    }
   },
   "outputs": [
    {
     "output_type": "stream",
     "name": "stdout",
     "output_type": "stream",
     "text": [
      "+------+--------------------+---+\n| Price| Product_Description|RAM|\n+------+--------------------+---+\n| 650.0|ASUS Vivobook 15 ...|512|\n|769.89|NEW Samsung Galax...|256|\n+------+--------------------+---+\n\nOut[328]: 2"
     ]
    }
   ],
   "source": [
    "\n",
    "# Example: Select specific columns and filter rows\n",
    "df.select('Price', 'Product_Description', 'RAM').filter('Price>500 and RAM >64').show()\n",
    "#display number of rows \n",
    "df.select(\"Price\", \"Product_Description\",\"RAM\").filter('Price>500 and RAM >64').count()\n"
   ]
  },
  {
   "cell_type": "markdown",
   "metadata": {
    "application/vnd.databricks.v1+cell": {
     "cellMetadata": {
      "byteLimit": 2048000,
      "rowLimit": 10000
     },
     "inputWidgets": {},
     "nuid": "aee8197c-9800-4ea7-a901-2e577bd96621",
     "showTitle": false,
     "title": ""
    }
   },
   "source": [
    "#Group By function"
   ]
  },
  {
   "cell_type": "code",
   "execution_count": 0,
   "metadata": {
    "application/vnd.databricks.v1+cell": {
     "cellMetadata": {
      "byteLimit": 2048000,
      "rowLimit": 10000
     },
     "inputWidgets": {},
     "nuid": "114180a1-9106-4c3e-ac42-0638781bb34d",
     "showTitle": false,
     "title": ""
    }
   },
   "outputs": [
    {
     "output_type": "stream",
     "name": "stdout",
     "output_type": "stream",
     "text": [
      "+---+--------+------------------+----------------+--------+------------------+--------+--------+\n|RAM|sum(RAM)|        sum(Price)|sum(Touchscreen)|sum(Ips)|          sum(ppi)|sum(HDD)|sum(SSD)|\n+---+--------+------------------+----------------+--------+------------------+--------+--------+\n| 12|      72| 2591.979995727539|               1|       1| 859.4726104736328|       0|    1280|\n|512|     512|             650.0|               0|       0| 141.2119903564453|       0|       0|\n| 16|   21232| 761487.9652309418|              57|      21|216936.88683319092|    3060|  424258|\n| 40|      80|  929.989990234375|               0|       1| 314.7010192871094|       0|       0|\n| 20|      40| 956.6499938964844|               0|       0|   257.80517578125|       0|    1024|\n| 64|    3072|25270.249786376953|               3|       1| 7183.355117797852|       0|   45570|\n|  4|     340|27389.969888687134|               4|       2|12760.443382263184|    1524|    7296|\n|  8|    9592| 547957.2072470188|              51|      17| 183043.5243988037|   17908|  252859|\n| 24|      48| 1088.989990234375|               0|       0|          298.5625|       0|    1536|\n|256|     256| 769.8900146484375|               0|       0| 141.2119903564453|       0|     256|\n| 32|    8768| 155917.9791469574|               3|       2|  44245.4700088501|       0|  118524|\n+---+--------+------------------+----------------+--------+------------------+--------+--------+\n\n"
     ]
    }
   ],
   "source": [
    "#mean/sum/max\n",
    "df.groupBy('RAM').sum().show()"
   ]
  },
  {
   "cell_type": "code",
   "execution_count": 0,
   "metadata": {
    "application/vnd.databricks.v1+cell": {
     "cellMetadata": {
      "byteLimit": 2048000,
      "rowLimit": 10000
     },
     "inputWidgets": {},
     "nuid": "d19ec2b3-5dd5-4f2a-aed0-201c322ba993",
     "showTitle": false,
     "title": ""
    }
   },
   "outputs": [
    {
     "output_type": "stream",
     "name": "stdout",
     "output_type": "stream",
     "text": [
      "+---+--------+------------------+--------------------+--------------------+------------------+------------------+------------------+\n|RAM|avg(RAM)|        avg(Price)|    avg(Touchscreen)|            avg(Ips)|          avg(ppi)|          avg(HDD)|          avg(SSD)|\n+---+--------+------------------+--------------------+--------------------+------------------+------------------+------------------+\n| 12|    12.0|431.99666595458984| 0.16666666666666666| 0.16666666666666666| 143.2454350789388|               0.0|213.33333333333334|\n|512|   512.0|             650.0|                 0.0|                 0.0| 141.2119903564453|               0.0|               0.0|\n| 16|    16.0| 573.8417221031965| 0.04295403165033911|0.015825169555388093|163.47919128348977|2.3059532780708363| 319.7121326299925|\n| 40|    40.0| 464.9949951171875|                 0.0|                 0.5| 157.3505096435547|               0.0|               0.0|\n| 20|    20.0| 478.3249969482422|                 0.0|                 0.0|  128.902587890625|               0.0|             512.0|\n| 64|    64.0| 526.4635372161865|              0.0625|0.020833333333333332|149.65323162078857|               0.0|           949.375|\n|  4|     4.0|322.23493986690744|0.047058823529411764|0.023529411764705882|150.12286332074333|17.929411764705883| 85.83529411764705|\n|  8|     8.0|457.01184924688806|0.042535446205170975|0.014178482068390326|152.66348990725913|14.935779816513762|210.89157631359467|\n| 24|    24.0| 544.4949951171875|                 0.0|                 0.0|         149.28125|               0.0|             768.0|\n|256|   256.0| 769.8900146484375|                 0.0|                 0.0| 141.2119903564453|               0.0|             256.0|\n| 32|    32.0| 569.0437195144431|0.010948905109489052|0.007299270072992...| 161.4798175505478|               0.0|432.56934306569343|\n+---+--------+------------------+--------------------+--------------------+------------------+------------------+------------------+\n\n"
     ]
    }
   ],
   "source": [
    "df.groupBy('RAM').mean().show()"
   ]
  },
  {
   "cell_type": "markdown",
   "metadata": {
    "application/vnd.databricks.v1+cell": {
     "cellMetadata": {
      "byteLimit": 2048000,
      "rowLimit": 10000
     },
     "inputWidgets": {},
     "nuid": "e0ae307b-92e4-4c39-8a57-d6cc9c455979",
     "showTitle": false,
     "title": ""
    }
   },
   "source": [
    "Push transformed df"
   ]
  },
  {
   "cell_type": "code",
   "execution_count": 0,
   "metadata": {
    "application/vnd.databricks.v1+cell": {
     "cellMetadata": {},
     "inputWidgets": {},
     "nuid": "6c333bd5-ad5b-413b-b126-8ee7e50ad18f",
     "showTitle": false,
     "title": ""
    }
   },
   "outputs": [],
   "source": [
    "# Define PostgreSQL connection properties\n",
    "postgres_url = \"jdbc:postgresql://localhost:5432/my_database\"\n",
    "properties = {\n",
    "    \"user\": \"my_username\",\n",
    "    \"password\": \"my_password\",\n",
    "    \"driver\": \"org.postgresql.Driver\"\n",
    "}\n",
    "\n",
    "# Write DataFrame to PostgreSQL\n",
    "df.write \\\n",
    "    .jdbc(url=postgres_url, table=\"transformed_data\", mode=\"overwrite\", properties=properties)"
   ]
  }
 ],
 "metadata": {
  "application/vnd.databricks.v1+notebook": {
   "dashboards": [],
   "environmentMetadata": null,
   "language": "python",
   "notebookMetadata": {
    "pythonIndentUnit": 2
   },
   "notebookName": "Laptop_Transformation_pyspark",
   "widgets": {}
  }
 },
 "nbformat": 4,
 "nbformat_minor": 0
}
